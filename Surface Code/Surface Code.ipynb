{
 "cells": [
  {
   "cell_type": "markdown",
   "id": "fa0a20f1",
   "metadata": {},
   "source": [
    "# Surface Code\n",
    "Notebook for playing around and building a surface code using Qiskit. We begin by following [An introduction to the surface code, Andrew N. Cleland](https://scipost.org/SciPostPhysLectNotes.49/pdf). \n",
    "\n",
    "### Simple Examples\n",
    "Let's first create the quantum circuit for one surface code cycle for a measure-Z qubit, forcing data qubits into an eigenstate of (stabilizes) $Z_0Z_1Z_2Z_3$ and for a measure-X qubit, which stabilizes $X_0X_1X_2X_3$ (i.e. figure 20 from the paper)."
   ]
  },
  {
   "cell_type": "code",
   "execution_count": 1,
   "id": "29822242",
   "metadata": {},
   "outputs": [
    {
     "data": {
      "text/html": [
       "<pre style=\"word-wrap: normal;white-space: pre;background: #fff0;line-height: 1.1;font-family: &quot;Courier New&quot;,Courier,monospace\">     ┌───┐┌───┐┌───┐┌───┐┌─┐\n",
       "q_0: ┤ X ├┤ X ├┤ X ├┤ X ├┤M├\n",
       "     └─┬─┘└─┬─┘└─┬─┘└─┬─┘└╥┘\n",
       "q_1: ──■────┼────┼────┼───╫─\n",
       "            │    │    │   ║ \n",
       "q_2: ───────■────┼────┼───╫─\n",
       "                 │    │   ║ \n",
       "q_3: ────────────■────┼───╫─\n",
       "                      │   ║ \n",
       "q_4: ─────────────────■───╫─\n",
       "                          ║ \n",
       "c: 1/═════════════════════╩═\n",
       "                          0 </pre>"
      ],
      "text/plain": [
       "     ┌───┐┌───┐┌───┐┌───┐┌─┐\n",
       "q_0: ┤ X ├┤ X ├┤ X ├┤ X ├┤M├\n",
       "     └─┬─┘└─┬─┘└─┬─┘└─┬─┘└╥┘\n",
       "q_1: ──■────┼────┼────┼───╫─\n",
       "            │    │    │   ║ \n",
       "q_2: ───────■────┼────┼───╫─\n",
       "                 │    │   ║ \n",
       "q_3: ────────────■────┼───╫─\n",
       "                      │   ║ \n",
       "q_4: ─────────────────■───╫─\n",
       "                          ║ \n",
       "c: 1/═════════════════════╩═\n",
       "                          0 "
      ]
     },
     "execution_count": 1,
     "metadata": {},
     "output_type": "execute_result"
    }
   ],
   "source": [
    "from qiskit import QuantumCircuit, QuantumRegister, ClassicalRegister, Aer, execute, transpile\n",
    "from qiskit.quantum_info import Statevector\n",
    "import numpy as np\n",
    "\n",
    "#Declare backend we will use throughout\n",
    "simulator = Aer.get_backend('aer_simulator')\n",
    "\n",
    "# Create a Quantum Register with 5 qubits (4 data qubits and 1 ancilla qubit for stabilzer +measurement)\n",
    "qreg = QuantumRegister(5, 'q')\n",
    "\n",
    "# Create a Classical Register with 1 bit\n",
    "creg = ClassicalRegister(1, 'c')\n",
    "\n",
    "# Create an Z measure Quantum Circuit \n",
    "Zcircuit = QuantumCircuit(qreg, creg)\n",
    "\n",
    "# Entangle the data qubits with the ancilla qubit\n",
    "for i in range(1,5):\n",
    "    Zcircuit.cx(qreg[i], qreg[0])  # Apply CX gate between data qubit and ancilla\n",
    "\n",
    "# Measure the ancilla qubit and store the result in the classical bit\n",
    "Zcircuit.measure(qreg[0], creg[0])\n",
    "\n",
    "Zcircuit.draw()"
   ]
  },
  {
   "cell_type": "markdown",
   "id": "4e27a2da-3704-4e95-97eb-6bfef335aa3e",
   "metadata": {},
   "source": [
    "Once we make projective measurement of the measure qubits e.g. for $Z$ measure qubit, the state will\n",
    "be $$Z_{0123}|\\psi\\rangle$$ ($Z_{0123} = \\pm 1$). This state is the quiescent state. When we extend to a full array, starting with the very first complete measurement cycle when starting up a surface code, the $Z$ measure and $X$ measure take whatever initial state the data qubits are in, and project from that state a complex entangled state $|\\psi\\rangle$ that is a simultaneous eigenstate of all the measurements across the array. Once selected, in the absence of errors, the same state $|\\psi\\rangle$ will be maintained by each\n",
    "subsequent cycle of the sequence, with each measure qubit yielding the same measurement\n",
    "outcome as it measured in the previous cycle (due to the stabilizer measurements commuting). Let's illustrate this by first just considering the $Z$ measure circuit."
   ]
  },
  {
   "cell_type": "code",
   "execution_count": 2,
   "id": "e0666902-7e0a-4389-8856-9641a5d4a36d",
   "metadata": {},
   "outputs": [
    {
     "name": "stdout",
     "output_type": "stream",
     "text": [
      "Pre Measurement State:  [0.70710678 0.         0.         0.         0.         0.\n",
      " 0.         0.         0.         0.         0.         0.\n",
      " 0.         0.         0.         0.70710678 0.         0.\n",
      " 0.         0.         0.         0.         0.         0.\n",
      " 0.         0.         0.         0.         0.         0.\n",
      " 0.         0.        ] \n",
      "\n",
      "Cycle 0 Measurement: 1\n",
      "Cycle 1 Measurement: 1\n",
      "Cycle 2 Measurement: 1\n",
      "Cycle 3 Measurement: 1\n",
      "Cycle 4 Measurement: 1\n"
     ]
    }
   ],
   "source": [
    "num_cycles = 5\n",
    "\n",
    "# Create a Quantum Register with 5 qubits (4 data qubits and 1 ancilla qubit for stabilizer + measurement)\n",
    "qreg = QuantumRegister(5, 'q')\n",
    "# Create a Classical Register with a bit for each cycle\n",
    "creg = ClassicalRegister(num_cycles, 'c')\n",
    "# Create a Quantum Circuit for each cycle\n",
    "Zcircuit = QuantumCircuit(qreg, creg)\n",
    "\n",
    "# Create an arbitrary initial state for data qubits (we choose 1/sqrt{2}(|0000> + |0111>) for illustration)\n",
    "Zcircuit.h(1)\n",
    "Zcircuit.cx(1,2)\n",
    "Zcircuit.cx(2,3)\n",
    "\n",
    "for cycle in range(num_cycles):\n",
    "    # Reset the ancilla qubit to the |0> state\n",
    "    Zcircuit.reset(qreg[0])\n",
    "\n",
    "    # Entangle the data qubits with the ancilla qubit\n",
    "    for i in range(1, 5):\n",
    "        Zcircuit.cx(qreg[i], qreg[0])\n",
    "\n",
    "    # Seeing the state of our initial circuit for visualization\n",
    "    if cycle == 0:\n",
    "        state_simulator = Aer.get_backend('statevector_simulator')\n",
    "        job = execute(Zcircuit, state_simulator)\n",
    "        state_vector = job.result().get_statevector()\n",
    "\n",
    "    # Measure the ancilla qubit and store the result in the classical register\n",
    "    Zcircuit.measure(qreg[0], creg[cycle])\n",
    "\n",
    "# Execute the circuit\n",
    "job = execute(Zcircuit, simulator, shots=1)\n",
    "result = job.result().get_counts()\n",
    "\n",
    "# Print pre-measurement state\n",
    "print(\"Pre Measurement State: \", np.asarray(state_vector).real, \"\\n\")\n",
    "\n",
    "# Extract and print the measurement result for each cycle\n",
    "measurement_results = list(result.keys())[0]  # Assuming a single shot, so only one key\n",
    "for cycle in range(num_cycles):\n",
    "    # In Qiskit, the bits are in reverse order\n",
    "    cycle_measurement = measurement_results[-1-cycle]\n",
    "    print(f\"Cycle {cycle} Measurement: {cycle_measurement}\")\n"
   ]
  },
  {
   "cell_type": "markdown",
   "id": "3ba87ed6-b6cd-416b-8db4-b85df8a2a306",
   "metadata": {},
   "source": [
    "Here we can see an illustration of this. The initial state is $$\\frac{1}{\\sqrt{2}} (|0000\\rangle + |0111\\rangle)\\otimes |0\\rangle$$. Then, after the cycle (pre-measurement), the ancilla becomes entangled with the data qubits and the state is $1/\\sqrt{2} (|00000\\rangle + |01111\\rangle)$. Now we can clearly see that a measurement of 0 or 1 of the ancilla will causes the state to collapse to a +1 ($|0000\\rangle$) or -1 ($|0111\\rangle$)  eigenstate of the $Z_0 Z_1 Z_2 Z_3$ stabilizer respectively. This collpased state is the quiescent state, and we can see from the other ancilla qubit measurements that this state remains throughout the following cycles (provided there's no errors!). We can now see this is the case for the $X$-measure qubit too."
   ]
  },
  {
   "cell_type": "code",
   "execution_count": 3,
   "id": "8ff0f107-6c82-456b-a5e3-eacff391234b",
   "metadata": {},
   "outputs": [
    {
     "name": "stdout",
     "output_type": "stream",
     "text": [
      "Pre Measurement State:  [ 0.5  0.5  0.   0.   0.   0.   0.   0.   0.   0.   0.   0.   0.   0.\n",
      "  0.   0.   0.   0.   0.   0.   0.   0.   0.   0.   0.   0.   0.   0.\n",
      "  0.   0.   0.5 -0.5] \n",
      "\n",
      "Cycle 0 Measurement: 0\n",
      "Cycle 1 Measurement: 0\n",
      "Cycle 2 Measurement: 0\n"
     ]
    }
   ],
   "source": [
    "num_cycles = 3\n",
    "\n",
    "# Create a Quantum Register with 5 qubits (4 data qubits and 1 ancilla qubit for stabilizer + measurement)\n",
    "qreg = QuantumRegister(5, 'q')\n",
    "# Create a Classical Register with a bit for each cycle\n",
    "creg = ClassicalRegister(num_cycles, 'c')\n",
    "# Create a Quantum Circuit for each cycle\n",
    "Xcircuit = QuantumCircuit(qreg, creg)\n",
    "\n",
    "# Initialize data qubits to |0000>\n",
    "# No additional gates needed as qubits are initialized to |0> by default\n",
    "\n",
    "for cycle in range(num_cycles):\n",
    "    # Reset the ancilla qubit to the |0> state\n",
    "    Xcircuit.reset(qreg[0])\n",
    "\n",
    "    #Change ancilla basis\n",
    "    Xcircuit.h(qreg[0])\n",
    "\n",
    "    # Entangle the data qubits with the ancilla qubit (now ancilla is the control)\n",
    "    for i in range(1, 5):\n",
    "        Xcircuit.cx(qreg[0], qreg[i])\n",
    "\n",
    "\n",
    "    #Change the ancilla basis\n",
    "    Xcircuit.h(qreg[0])\n",
    "    \n",
    "    # Seeing the state of our initial circuit for visualization\n",
    "    if cycle == 0:\n",
    "        state_simulator = Aer.get_backend('statevector_simulator')\n",
    "        job = execute(Xcircuit, state_simulator)\n",
    "        state_vector = job.result().get_statevector()\n",
    "\n",
    "    # Measure the ancilla qubit and store the result in the classical register\n",
    "    Xcircuit.measure(qreg[0], creg[cycle])\n",
    "\n",
    "# Execute the circuit\n",
    "simulator = Aer.get_backend('aer_simulator')\n",
    "job = execute(Xcircuit, simulator, shots=1)\n",
    "result = job.result().get_counts()\n",
    "\n",
    "# Print pre-measurement state\n",
    "print(\"Pre Measurement State: \", np.asarray(state_vector).real, \"\\n\")\n",
    "\n",
    "# Extract and print the measurement result for each cycle\n",
    "measurement_results = list(result.keys())[0]  # Assuming a single shot, so only one key\n",
    "for cycle in range(num_cycles):\n",
    "    # In Qiskit, the bits are in reverse order\n",
    "    cycle_measurement = measurement_results[-1-cycle]\n",
    "    print(f\"Cycle {cycle} Measurement: {cycle_measurement}\")\n"
   ]
  },
  {
   "cell_type": "markdown",
   "id": "7a2502c9-d0b8-439f-892c-3262625bd103",
   "metadata": {},
   "source": [
    "We also see the same thing here. The initial state of the data qubits is $|0000\\rangle$, then the entanglement with the ancilla projects the state to \n",
    "$$\n",
    "\\large |\\psi\\rangle = \\frac{1}{2}\\left((|0000\\rangle + |1111\\rangle) \\otimes |0\\rangle + (|0000\\rangle - |1111\\rangle) \\otimes |1\\rangle)\\right).\n",
    "$$\n",
    "So then measurement of the $X$-type ancilla leaves the system in one of two possible eigenstates of $X_1X_2X_3X_4$, with the ancilla measurement indicating which: 0 (1) for +1 (-1) eigenvalue.\n",
    "\n",
    "### 7 qubit Error Detection Surface Code\n",
    "The smallest possible surface code (working from [Repeated Quantum Error Detection in a Surface Code](https://arxiv.org/pdf/1912.09410.pdf)) has 7 qubits, 4 data qubits ($D_1, D_2, D_3, D_4$), 2 $Z$ ancillas ($Z_1Z_2$) and 1 $X$ ancilla ($X_1$)."
   ]
  },
  {
   "cell_type": "code",
   "execution_count": 4,
   "id": "26fc65fa-9b3a-430c-87ae-5545178f2ae1",
   "metadata": {},
   "outputs": [
    {
     "data": {
      "image/png": "[encoded data removed]",
      "text/plain": [
       "<Figure size 640x480 with 1 Axes>"
      ]
     },
     "metadata": {},
     "output_type": "display_data"
    }
   ],
   "source": [
    "import matplotlib.pyplot as plt\n",
    "import networkx as nx\n",
    "\n",
    "# Create a new graph\n",
    "G = nx.Graph()\n",
    "\n",
    "# Add nodes with positions\n",
    "positions = {'D1': (0, 1), 'D2': (2, 1), 'D3': (0, -1), 'D4': (2, -1),\n",
    "             'Z1': (-1, 0), 'X1': (1, 0), 'Z2': (3,0 )}\n",
    "\n",
    "for node, pos in positions.items():\n",
    "    G.add_node(node, pos=pos)\n",
    "\n",
    "# Add edges between nodes\n",
    "edges = [('D1', 'Z1'), ('D1', 'X1'), ('D2', 'X1'), ('D2', 'Z2'), \n",
    "         ('D3', 'Z1'), ('D3', 'X1'), ('D4', 'X1'), ('D4', 'Z2')]\n",
    "\n",
    "G.add_edges_from(edges)\n",
    "\n",
    "# Draw the graph\n",
    "nx.draw(G, positions, with_labels=True, node_size=500, node_color='lightblue', font_size=8)\n",
    "plt.show()\n"
   ]
  },
  {
   "cell_type": "markdown",
   "id": "d8704f82-75db-4efc-b487-5eb538f3b38b",
   "metadata": {},
   "source": [
    "Let's try to build the circuit, using what we know from above and the Cleland paper. Qubit 4 will be the X ancilla, qubits 5 (z1) and 6 (z2) will be the z ancillas. The codewords are\n",
    "$$\n",
    "|0\\rangle_L = \\frac{1}{\\sqrt{2}}(|0000\\rangle + |1111\\rangle), \\quad |1\\rangle_L = \\frac{1}{\\sqrt{2}}(|1010\\rangle + |0101\\rangle)\n",
    "$$\n",
    "\n",
    "and the stabilizers are\n",
    "$$\n",
    "X_1 X_2 X_3 X_4, \\quad Z_1Z_3, \\quad Z_2 Z_4\n",
    "$$\n",
    "\n",
    "So we can detect single phase flip errors from the $X$ stabilizer measurement $$X_1X_2X_3X_4\\left(Z_\\mu|\\psi\\rangle\\right) = -Z_\\mu\\left(X_1X_2X_3X_4|\\psi\\rangle\\right)\\\\\n",
    "= -X_{1234}\\left(Z_\\mu|\\psi\\rangle\\right)$$\n",
    "and up to 2 bit flips (provided they are on qubits connected to different $Z$ stabilizers), e.g.\n",
    "$$\n",
    "Z_1Z_3\\left(X_1 |\\psi\\rangle\\right) = -Z_{13}\\left(X_1 |\\psi\\rangle\\right)\n",
    "$$\n",
    "and \n",
    "$$\n",
    "Z_2Z_4\\left(X_3 |\\psi\\rangle\\right) = -Z_{24}\\left(X_3|\\psi\\rangle\\right)\n",
    "$$"
   ]
  },
  {
   "cell_type": "code",
   "execution_count": 5,
   "id": "a98e1d8f-99d1-466f-b17f-b02508ddc54b",
   "metadata": {},
   "outputs": [
    {
     "name": "stdout",
     "output_type": "stream",
     "text": [
      "State:  [ 0.5  0.   0.   0.   0.   0.   0.   0.   0.   0.   0.   0.   0.   0.\n",
      "  0.   0.5  0.5  0.   0.   0.   0.   0.   0.   0.   0.   0.   0.   0.\n",
      "  0.   0.   0.  -0.5  0.   0.   0.   0.   0.   0.   0.   0.   0.   0.\n",
      "  0.   0.   0.   0.   0.   0.   0.   0.   0.   0.   0.   0.   0.   0.\n",
      "  0.   0.   0.   0.   0.   0.   0.   0.   0.   0.   0.   0.   0.   0.\n",
      "  0.   0.   0.   0.   0.   0.   0.   0.   0.   0.   0.   0.   0.   0.\n",
      "  0.   0.   0.   0.   0.   0.   0.   0.   0.   0.   0.   0.   0.   0.\n",
      "  0.   0.   0.   0.   0.   0.   0.   0.   0.   0.   0.   0.   0.   0.\n",
      "  0.   0.   0.   0.   0.   0.   0.   0.   0.   0.   0.   0.   0.   0.\n",
      "  0.   0. ] \n",
      " Result:  {'000': 511, '001': 489}\n"
     ]
    },
    {
     "data": {
      "image/png": "[encoded data removed]",
      "text/plain": [
       "<Figure size 1290.83x702.333 with 1 Axes>"
      ]
     },
     "execution_count": 5,
     "metadata": {},
     "output_type": "execute_result"
    }
   ],
   "source": [
    "# Create a Quantum Register with 7 qubits (4 data qubits and 3 ancilla qubits for stabilizer + measurement)\n",
    "qreg = QuantumRegister(7, 'q')\n",
    "\n",
    "# Create a Classical Register\n",
    "creg = ClassicalRegister(3, 'c')\n",
    "\n",
    "# Create a Quantum Circuit for each cycle\n",
    "sevenq_sc = QuantumCircuit(qreg, creg)\n",
    "\n",
    "# Entangle with X ancilla (same as above)\n",
    "sevenq_sc.h(qreg[4])\n",
    "\n",
    "for i in range (0,4):\n",
    "    sevenq_sc.cx(qreg[4], qreg[i]) #Remembering X type is control\n",
    "    \n",
    "sevenq_sc.h(qreg[4])\n",
    "\n",
    "#Entangle with Z_1\n",
    "sevenq_sc.cx(qreg[0], qreg[5])\n",
    "sevenq_sc.cx(qreg[2], qreg[5])\n",
    "\n",
    "#entangle with Z_2\n",
    "sevenq_sc.cx(qreg[1], qreg[6])\n",
    "sevenq_sc.cx(qreg[3], qreg[6])\n",
    "\n",
    "sevenq_sc.barrier()\n",
    "\n",
    "#Check the pre-measurement state\n",
    "state_simulator = Aer.get_backend('statevector_simulator')\n",
    "job = execute(sevenq_sc, state_simulator)\n",
    "state_vector = job.result().get_statevector()\n",
    "\n",
    "#Measure ancillas\n",
    "for i in range(0, 3):\n",
    "        sevenq_sc.measure(qreg[i+4], creg[i])\n",
    "\n",
    "# Execute the circuit\n",
    "job = execute(sevenq_sc, simulator, shots=1000)\n",
    "result = job.result().get_counts()\n",
    "\n",
    "print(\"State: \", np.asarray(state_vector).real, \"\\n Result: \", result)\n",
    "sevenq_sc.draw('mpl')"
   ]
  },
  {
   "cell_type": "markdown",
   "id": "d4cbe97e-f43c-4b5e-94fe-71873c464e7d",
   "metadata": {},
   "source": [
    "We can see that we will be in our desired quiescent state when the ancillas are measured to all be $|000\\rangle$ (which happens half the time). So let's now create a function to see how well the 7 qubit error detection surface code detects errors. Instead of running the circuit with all qubits starting in the $|0\\rangle$ state, we'll just assume that the quiescent state is $|0\\rangle_L$, as defined above. We currently just implement for Pauli errors."
   ]
  },
  {
   "cell_type": "code",
   "execution_count": 6,
   "id": "0cc1bf5f-1c7c-4c7e-9cdd-b52ffeb64f91",
   "metadata": {},
   "outputs": [
    {
     "data": {
      "image/png": "[encoded data removed]",
      "text/plain": [
       "<Figure size 700x500 with 1 Axes>"
      ]
     },
     "execution_count": 6,
     "metadata": {},
     "output_type": "execute_result"
    }
   ],
   "source": [
    "from qiskit.visualization import plot_histogram\n",
    "from qiskit.providers.aer.noise import pauli_error\n",
    "\n",
    "def simulate_surface7(num_cycles, p_pauli=0.0):\n",
    "    # Initialize registers and circuit\n",
    "    qreg = QuantumRegister(7, 'q')\n",
    "    creg = ClassicalRegister(num_cycles * 3, 'c')\n",
    "    circuit = QuantumCircuit(qreg, creg)\n",
    "\n",
    "    # Define the state vector for the equal superposition of |0000> and |1111>\n",
    "    state = [1/2**0.5, 0, 0, 0, 0, 0, 0, 0, 0, 0, 0, 0, 0, 0, 0, 1/2**0.5]\n",
    "    circuit.initialize(state, [0, 1, 2, 3])\n",
    "    \n",
    "    # Define Pauli error model\n",
    "    error = pauli_error([('X', 0.5 * p_pauli), ('Z', 0.5 * p_pauli), ('I', 1.0 - p_pauli)])\n",
    "\n",
    "    for cycle in range(num_cycles):\n",
    "        \n",
    "        # Append Pauli errors to each data qubit at the beginning of the cycle\n",
    "        for i in range(4):\n",
    "            circuit.append(error, [i])\n",
    "            \n",
    "        # Reset ancillas\n",
    "        for i in range(4, 7):\n",
    "            circuit.reset(qreg[i])\n",
    "\n",
    "        # Entangle with X ancilla\n",
    "        circuit.h(qreg[4])\n",
    "        for i in range(4):\n",
    "            circuit.cx(qreg[4], qreg[i])  # X type is control\n",
    "        circuit.h(qreg[4])\n",
    "\n",
    "        # Entangle with Z_1\n",
    "        circuit.cx(qreg[0], qreg[5])\n",
    "        circuit.cx(qreg[2], qreg[5])\n",
    "\n",
    "        # Entangle with Z_2\n",
    "        circuit.cx(qreg[1], qreg[6])\n",
    "        circuit.cx(qreg[3], qreg[6])\n",
    "\n",
    "        # Measure ancillas\n",
    "        for i in range(3):\n",
    "            circuit.measure(qreg[i + 4], creg[cycle * 3 + i])\n",
    "\n",
    "\n",
    "        circuit.barrier()\n",
    "\n",
    "    # Execute the circuit and get the result\n",
    "    simulator = Aer.get_backend('aer_simulator')\n",
    "    job = execute(circuit, simulator, shots=10000)\n",
    "    result = job.result().get_counts()\n",
    "\n",
    "    return result\n",
    "\n",
    "# Example Usage\n",
    "num_cycles = 1\n",
    "p_pauli = 0.01 # Example probability for Pauli errors\n",
    "result = simulate_surface7(num_cycles, p_pauli)\n",
    "\n",
    "# Plot the histogram\n",
    "plot_histogram(result)"
   ]
  },
  {
   "cell_type": "markdown",
   "id": "fe9ab85d-5120-41ca-b32a-22160ede56ca",
   "metadata": {},
   "source": [
    "Here we see the codes ability to detect errors. "
   ]
  },
  {
   "cell_type": "markdown",
   "id": "d4444cc4-a5b8-4f00-a367-b2de8b3f934d",
   "metadata": {},
   "source": [
    "### 17 qubit Surface Code\n",
    "Now following [Low-distance Surface Codes under Realistic Quantum Noise](https://arxiv.org/pdf/1404.3747.pdf), we aim to implement the distance = 3 17 qubit surface code (mainly as it's less resource intensive than the same distance 25 qubit counterpart). The surface-17 consists of 9 data qubits and 8 ancilla qubits.  The stabilizers for the surface-17 are:\n",
    "- X Stabilizers:\n",
    "  - $ X_0 X_1 X_3 X_4 $\n",
    "  - $ X_1 X_2 $\n",
    "  - $ X_4 X_5 X_7 X_8 $\n",
    "  - $ X_6 X_7 $\n",
    "  \n",
    "- Z Stabilizers:\n",
    "  - $ Z_0 Z_3 $\n",
    "  - $ Z_1 Z_2 Z_4 Z_5 $\n",
    "  - $ Z_3 Z_4 Z_6 Z_7 $\n",
    "  - $ Z_5 Z_8 $\n",
    "\n",
    "As an aside, it may seem like an issue that a $Z$ error on qubits 0 and 3 (as $X$ stabilizers check $Z$ errors!) will lead to the same syndome (and $X$ errors for qubits 1 and 2 etc...). However this is not an issue, as we can correct either $Z_1$ or $Z_3$ as it's a stabilizer."
   ]
  },
  {
   "cell_type": "code",
   "execution_count": 7,
   "id": "d6422a7a-e401-4a84-9410-d6b5e4c715be",
   "metadata": {},
   "outputs": [],
   "source": [
    "def simulate_surface_17(d3_sc, creg):\n",
    "    d3_sc.add_register(creg)\n",
    "    # Reset all ancillas to |0>\n",
    "    for i in range(9,17):\n",
    "        d3_sc.reset(i)\n",
    "    \n",
    "    # Implementing the stabilizer measurements\n",
    "    # X-ancilla qubit 9\n",
    "    d3_sc.h(9)\n",
    "    d3_sc.cx(9,1)\n",
    "    d3_sc.cx(9,2)\n",
    "    d3_sc.h(9)\n",
    "    d3_sc.measure(9,creg[0])\n",
    "    d3_sc.barrier()\n",
    "\n",
    "    # Z ancilla qubit 10\n",
    "    d3_sc.cx(0,10)\n",
    "    d3_sc.cx(3,10)\n",
    "    d3_sc.measure(10, creg[1])\n",
    "    d3_sc.barrier()\n",
    "\n",
    "    # X ancilla qubit 11\n",
    "    d3_sc.h(11)\n",
    "    d3_sc.cx(11,0)\n",
    "    d3_sc.cx(11,1)\n",
    "    d3_sc.cx(11,3)\n",
    "    d3_sc.cx(11,4)\n",
    "    d3_sc.h(11)\n",
    "    d3_sc.measure(11, creg[2])\n",
    "    d3_sc.barrier()\n",
    "\n",
    "    # Z ancilla qubit 12\n",
    "    d3_sc.cx(1,12)\n",
    "    d3_sc.cx(2,12)\n",
    "    d3_sc.cx(4,12)\n",
    "    d3_sc.cx(5,12)\n",
    "    d3_sc.measure(12, creg[3])\n",
    "    d3_sc.barrier()\n",
    "\n",
    "    # Z ancilla qubit 13\n",
    "    d3_sc.cx(3, 13)\n",
    "    d3_sc.cx(4, 13)\n",
    "    d3_sc.cx(6, 13)\n",
    "    d3_sc.cx(7, 13)\n",
    "    d3_sc.measure(13, creg[4])\n",
    "    d3_sc.barrier()\n",
    "\n",
    "\n",
    "    # X ancilla qubit 14\n",
    "    d3_sc.h(14)\n",
    "    d3_sc.cx(14, 4)\n",
    "    d3_sc.cx(14, 5)\n",
    "    d3_sc.cx(14, 7)\n",
    "    d3_sc.cx(14, 8)\n",
    "    d3_sc.h(14)\n",
    "    d3_sc.measure(14, creg[5])\n",
    "    d3_sc.barrier()\n",
    "\n",
    "    # Z ancilla qubit 15\n",
    "    d3_sc.cx(5, 15)\n",
    "    d3_sc.cx(8, 15)\n",
    "    d3_sc.measure(15, creg[6])\n",
    "    d3_sc.barrier()\n",
    "\n",
    "    # X ancilla qubit 16\n",
    "    d3_sc.h(16)\n",
    "    d3_sc.cx(16, 6)\n",
    "    d3_sc.cx(16, 7)\n",
    "    d3_sc.h(16)\n",
    "    d3_sc.measure(16, creg[7])\n",
    "    d3_sc.barrier()\n",
    "\n",
    "\n",
    "\n",
    "#Example usage \n",
    "    \n",
    "# # Execute the circuit and get the result\n",
    "# job = execute(d3_sc, simulator, shots=shots)\n",
    "# result = job.result().get_counts()\n",
    "\n",
    "\n",
    "# print(result)\n",
    "\n",
    "# # Organizing the result for each cycle\n",
    "# organized_result = {}\n",
    "# for key in result:\n",
    "#     organized_result[key] = {\"counts\": result[key], \"cycles\": []}\n",
    "#     for cycle in range(num_cycles):\n",
    "#         cycle_result = key[8 * cycle: 8 * (cycle + 1)]\n",
    "#         organized_result[key][\"cycles\"].insert(0, cycle_result)\n",
    "\n",
    "# for state, data in organized_result.items():\n",
    "#     for cycle, cycle_result in enumerate(data[\"cycles\"]):\n",
    "#         print(f\"Cycle {cycle}: {cycle_result}\")\n",
    "#     print(f\"     Total counts: {data['counts']}\")\n",
    "#     print()  # New line for readability"
   ]
  },
  {
   "cell_type": "markdown",
   "id": "ea1d9764-fab0-4f0f-a7dd-a88fa98dd339",
   "metadata": {},
   "source": [
    "So we see the state will collapse to any one of the eigenstates of the stabilizers. Then, in the abscence of errors, this state will remain throughout all cycles, and the ancilla measurements will be the same. With the presence of errors, the error will causes a unique change in the ancilla readout/syndrome measurement."
   ]
  },
  {
   "cell_type": "markdown",
   "id": "b87a5b31-d92e-4eff-84a2-8aa807872bab",
   "metadata": {},
   "source": [
    "## Decoding with PyMatching\n",
    "We need some way to decode all the possible error syndromes. For this, we will experiment with [PyMatching](https://github.com/oscarhiggott/PyMatching) (although it remains to be seen how compatible this is with qiskit).\n",
    "##### Simple Example\n",
    "\n",
    "We must create $H$, a parity check matrix. Each row of the matrix $H$ represents a different stabilizer (a parity check).\n",
    "Each column represents a different qubit.\n",
    "The matrix element $H_{i,j}$ is set to 1 if the $i$-th stabilizer acts on the \n",
    "$j$-th qubit (i.e., if the qubit is part of that stabilizer), and 0 otherwise. Read about it in more detail in this PyMatching [Toric Code Example](https://pymatching.readthedocs.io/en/latest/toric-code-example.html) and section III B [here](https://arxiv.org/pdf/1404.3747.pdf). Here is a simple example for the 3 qubit code (recalling the stabilizers are $Z_1Z_2$ and $Z_2Z_3$). "
   ]
  },
  {
   "cell_type": "code",
   "execution_count": 8,
   "id": "db3be8c0-0e33-4cde-8012-11e38d60b54d",
   "metadata": {},
   "outputs": [
    {
     "name": "stdout",
     "output_type": "stream",
     "text": [
      "[0 1 0]\n"
     ]
    }
   ],
   "source": [
    "import numpy as np\n",
    "from scipy.sparse import csc_matrix\n",
    "import pymatching\n",
    "\n",
    "H = csc_matrix([[1, 1, 0],\n",
    "                 [0, 1, 1]])\n",
    "\n",
    "weights = np.array([1, 1, 1])   # Set arbitrary weights for illustration\n",
    "matching = pymatching.Matching(H, weights=weights)\n",
    "prediction = matching.decode(np.array([1, 1]))\n",
    "print(prediction)  "
   ]
  },
  {
   "cell_type": "markdown",
   "id": "b1ff5bf6-81fc-4ca4-aaf5-55057c1e2ac9",
   "metadata": {},
   "source": [
    "Let's now create the H matrix for the surface code. We'll have to create two matricies $H_x$ and $H_z$, for the measurement of the $X$ stabilizers and $Z$ stabilizers. For the surface code we have our queiscient state (which is selected from many possible quiescent states), so we don't necessarily know the values of the stabilizer measurements. Therefore, we need to track the **changes** in stabilizer/ancilla measurements between each cycles. The change in the measurement value still allows us to determine where the error has occured."
   ]
  },
  {
   "cell_type": "code",
   "execution_count": 9,
   "id": "90d4072f-b9e9-4aec-8bce-b04fb953031d",
   "metadata": {},
   "outputs": [
    {
     "name": "stdout",
     "output_type": "stream",
     "text": [
      "Z Errors:  [1 0 0 0 0 0 0 0 0]\n",
      "X Errors:  [1 0 0 0 0 1 0 0 0]\n"
     ]
    }
   ],
   "source": [
    "H_x = np.array([\n",
    "    [0, 1, 1, 0, 0, 0, 0, 0, 0],\n",
    "    [1, 1, 0, 1, 1, 0, 0, 0, 0],\n",
    "    [0, 0, 0, 0, 1, 1, 0, 1, 1],\n",
    "    [0, 0, 0, 0, 0, 0, 1, 1, 0]\n",
    "])\n",
    "\n",
    "\n",
    "\n",
    "H_z = np.array([  \n",
    "    [1, 0, 0, 1, 0, 0, 0, 0, 0],\n",
    "    [0, 1, 1, 0, 1, 1, 0, 0, 0],\n",
    "    [0, 0, 0, 1, 1, 0, 1, 1, 0],\n",
    "    [0, 0, 0, 0, 0, 1, 0, 0, 1]\n",
    "])\n",
    "\n",
    "weights = np.array([1, 1, 1, 1, 1, 1, 1, 1, 1])   # Set arbitrary weights for illustration\n",
    "\n",
    "#Example for X stabilizers\n",
    "xmatching = pymatching.Matching(H_x, weights = weights)\n",
    "\n",
    "xprediction = xmatching.decode(np.array([0, 1, 0, 0]))\n",
    "print(\"Z Errors: \", xprediction)  \n",
    "\n",
    "zmatching = pymatching.Matching(H_z, weights = weights)\n",
    "\n",
    "zprediction = zmatching.decode(np.array([1, 1, 0, 1]))\n",
    "print(\"X Errors: \", zprediction)  "
   ]
  },
  {
   "cell_type": "markdown",
   "id": "5b3bc652-baff-4a42-96eb-87bb0f064862",
   "metadata": {},
   "source": [
    "Let's define a function to do this for the 8 (4 $X$-type, 4 $Z$-type) ancillas of the 17 qubit surface code."
   ]
  },
  {
   "cell_type": "code",
   "execution_count": 10,
   "id": "8ddc398a-a78f-45e8-a2ed-dfb329ec6bc1",
   "metadata": {},
   "outputs": [],
   "source": [
    "def decode_errors(results):\n",
    "    H_x = np.array([\n",
    "        [0, 1, 1, 0, 0, 0, 0, 0, 0],\n",
    "        [1, 1, 0, 1, 1, 0, 0, 0, 0],\n",
    "        [0, 0, 0, 0, 1, 1, 0, 1, 1],\n",
    "        [0, 0, 0, 0, 0, 0, 1, 1, 0]\n",
    "    ])\n",
    "\n",
    "    H_z = np.array([\n",
    "        [1, 0, 0, 1, 0, 0, 0, 0, 0],\n",
    "        [0, 1, 1, 0, 1, 1, 0, 0, 0],\n",
    "        [0, 0, 0, 1, 1, 0, 1, 1, 0],\n",
    "        [0, 0, 0, 0, 0, 1, 0, 0, 1]\n",
    "    ])\n",
    "\n",
    "    weights = np.array([1, 1, 1, 1, 1, 1, 1, 1, 1])\n",
    "\n",
    "    # Extract the binary string\n",
    "    binary_str = next(iter(results)).replace(\" \", \"\")[::-1] #Due to qiskits little endian\n",
    "    n_cycles = len(binary_str) // 8\n",
    "\n",
    "    if len(binary_str) % 8 != 0:\n",
    "        raise ValueError(\"Binary string length is not a multiple of 8 after removing spaces. The 17 qubit surface code measures 8 stabilizers.\")\n",
    "\n",
    "    # Initialize pymatching matchers\n",
    "    xmatching = pymatching.Matching(H_x, weights=weights)\n",
    "    zmatching = pymatching.Matching(H_z, weights=weights)\n",
    "\n",
    "    error_reports = []\n",
    "\n",
    "    for cycle in range(n_cycles - 1):\n",
    "        start1 = cycle * 8\n",
    "        start2 = (cycle + 1) * 8\n",
    "        cycle1 = binary_str[start1:start1 + 8]\n",
    "        cycle2 = binary_str[start2:start2 + 8]\n",
    "\n",
    "        # Extract syndromes and calculate differences\n",
    "        X_syndromes_cycle1 = [int(cycle1[i]) for i in [0, 2, 5, 7]]\n",
    "        Z_syndromes_cycle1 = [int(cycle1[i]) for i in [1, 3, 4, 6]]\n",
    "        X_syndromes_cycle2 = [int(cycle2[i]) for i in [0, 2, 5, 7]]\n",
    "        Z_syndromes_cycle2 = [int(cycle2[i]) for i in [1, 3, 4, 6]]\n",
    "\n",
    "        Xdifference = [0 if X_syndromes_cycle1[i] == X_syndromes_cycle2[i] else 1 for i in range(4)]\n",
    "        Zdifference = [0 if Z_syndromes_cycle1[i] == Z_syndromes_cycle2[i] else 1 for i in range(4)]\n",
    "\n",
    "        # Decode the differences\n",
    "        xprediction = xmatching.decode(Xdifference)\n",
    "        zprediction = zmatching.decode(Zdifference)\n",
    "\n",
    "        cycle_errors = {'cycle': cycle + 1, 'X_error': [], 'Z_error': []}\n",
    "\n",
    "        # Identify X and Z errors\n",
    "        for i, x in enumerate(xprediction):\n",
    "            if x == 1:\n",
    "                cycle_errors['Z_error'].append(i) #As X stabilizers pick up Z errors\n",
    "\n",
    "        for i, z in enumerate(zprediction):\n",
    "            if z == 1:\n",
    "                cycle_errors['X_error'].append(i) #As X stabilizers pick up Z errors\n",
    "\n",
    "        error_reports.append(cycle_errors)\n",
    "\n",
    "    return error_reports\n",
    "\n"
   ]
  },
  {
   "cell_type": "markdown",
   "id": "f5ceb9b1-bc46-484c-aec6-c73d5299efdd",
   "metadata": {},
   "source": [
    "We can see how this works for some test cases. Below, we are able to diagnoze 2 $Z$ errors and 2 $X$ errors during a single cycle."
   ]
  },
  {
   "cell_type": "code",
   "execution_count": 11,
   "id": "27c13d8d-08ea-40ce-aca7-9726296b9d12",
   "metadata": {},
   "outputs": [
    {
     "name": "stdout",
     "output_type": "stream",
     "text": [
      "{'01001111 01001111 01001111 10100100': 1}\n",
      "[{'cycle': 1, 'X_error': [0, 5], 'Z_error': [2, 7]}, {'cycle': 2, 'X_error': [], 'Z_error': []}, {'cycle': 3, 'X_error': [], 'Z_error': []}]\n"
     ]
    }
   ],
   "source": [
    "num_cycles = 4\n",
    "qreg = 17\n",
    "d3_sc = QuantumCircuit(qreg)\n",
    "\n",
    "# Create and add a classical register for each cycle\n",
    "classical_regs = [ClassicalRegister(8, f'c{cycle}') for cycle in range(num_cycles)]\n",
    "\n",
    "# Run the simulation for each cycle with its corresponding classical register\n",
    "for cycle in range(num_cycles):\n",
    "    simulate_surface_17(d3_sc, classical_regs[cycle])\n",
    "\n",
    "    if cycle == 0:\n",
    "        d3_sc.x(0)\n",
    "        d3_sc.x(5)\n",
    "        d3_sc.z(2)\n",
    "        d3_sc.z(7)\n",
    "    \n",
    "\n",
    "# Execute the circuit and get the result\n",
    "job = execute(d3_sc, simulator, shots=1)\n",
    "result = job.result().get_counts()\n",
    "\n",
    "# Extract the binary string (assuming there is only one key in the dictionary)\n",
    "print(result)\n",
    "\n",
    "err_report = decode_errors(result)\n",
    "\n",
    "print(err_report)"
   ]
  },
  {
   "cell_type": "markdown",
   "id": "b80dbc29-66d5-4a17-9b47-d4b04c79f532",
   "metadata": {},
   "source": [
    "### Applying Corrections\n",
    "Qiskit doesn't seem to offer much in the way of conditional gates based on mid-circuit measurements, aside from `c_if`, which we can't use as we're using the classical registers to decode the error syndrome, so there doesn't really seem like a neat way of implementing this result back into a `c_if` statement. Instead, we will use `error_report` at the end of $n$ cycles to apply corrections to the state (i.e. based on our decoded information). It's also worth noting, if the same error occurs an even number of times, we don't need to correct it as it has effectively corrected itself."
   ]
  },
  {
   "cell_type": "code",
   "execution_count": 12,
   "id": "5a5d7f0a-0cf6-4beb-b5e8-1ef8c3c92fde",
   "metadata": {},
   "outputs": [],
   "source": [
    "from collections import Counter\n",
    "\n",
    "def apply_error_corrections(qc, error_reports):\n",
    "    \"\"\"\n",
    "    Apply error corrections to the quantum circuit based on error reports.\n",
    "    Corrects a qubit if it has an odd number of errors.\n",
    "\n",
    "    Parameters:\n",
    "    qc (QuantumCircuit): The quantum circuit to apply corrections to.\n",
    "    error_reports (list): A list of dictionaries containing error reports for each cycle.\n",
    "    \n",
    "    Returns:\n",
    "    QuantumCircuit: The quantum circuit with applied error corrections.\n",
    "    \"\"\"\n",
    "    x_errors = []\n",
    "    z_errors = []\n",
    "\n",
    "    # Collect all errors\n",
    "    for report in error_reports:\n",
    "        x_errors.extend(report['X_error'])\n",
    "        z_errors.extend(report['Z_error'])\n",
    "\n",
    "    # Count occurrences and filter out even occurrences\n",
    "    x_error_counts = Counter(x_errors)\n",
    "    z_error_counts = Counter(z_errors)\n",
    "\n",
    "    # Apply X corrections for odd occurrences\n",
    "    for qubit, count in x_error_counts.items():\n",
    "        if count % 2 != 0:  # Odd count\n",
    "            qc.x(qubit)\n",
    "\n",
    "    # Apply Z corrections for odd occurrences\n",
    "    for qubit, count in z_error_counts.items():\n",
    "        if count % 2 != 0:  # Odd count\n",
    "            qc.z(qubit)\n",
    "\n",
    "    return qc"
   ]
  },
  {
   "cell_type": "code",
   "execution_count": 13,
   "id": "c547efd6-be10-4b68-b32a-f0422fdf3b3f",
   "metadata": {},
   "outputs": [
    {
     "name": "stdout",
     "output_type": "stream",
     "text": [
      "[{'cycle': 1, 'X_error': [0, 5], 'Z_error': [2]}, {'cycle': 2, 'X_error': [0], 'Z_error': [2]}]\n"
     ]
    },
    {
     "data": {
      "text/plain": [
       "<qiskit.circuit.quantumcircuit.QuantumCircuit at 0x7f659c2c4e50>"
      ]
     },
     "execution_count": 13,
     "metadata": {},
     "output_type": "execute_result"
    }
   ],
   "source": [
    "num_cycles = 3\n",
    "qreg = 17\n",
    "d3_sc = QuantumCircuit(qreg)\n",
    "\n",
    "# Create and add a classical register for each cycle\n",
    "classical_regs = [ClassicalRegister(8, f'c{cycle}') for cycle in range(num_cycles)]\n",
    "\n",
    "# Run the simulation for each cycle with its corresponding classical register\n",
    "for cycle in range(num_cycles):\n",
    "    simulate_surface_17(d3_sc, classical_regs[cycle])\n",
    "\n",
    "    if cycle == 0:\n",
    "        d3_sc.x(0)\n",
    "        d3_sc.x(5)\n",
    "        d3_sc.z(2)\n",
    "\n",
    "    if cycle ==1:\n",
    "        d3_sc.x(0) #These correct themselves\n",
    "        d3_sc.z(2)\n",
    "\n",
    "    if cycle == 2:\n",
    "        d3_sc.z(2) \n",
    "    \n",
    "\n",
    "# Execute the circuit and get the result\n",
    "job = execute(d3_sc, simulator, shots=1)\n",
    "result = job.result().get_counts()\n",
    "\n",
    "#Decode the errors\n",
    "err_report = decode_errors(result)\n",
    "\n",
    "print(err_report)\n",
    "\n",
    "#Apply corrections\n",
    "apply_error_corrections(d3_sc, err_report)\n",
    "\n",
    "# d3_sc.draw('mpl')"
   ]
  },
  {
   "cell_type": "markdown",
   "id": "57c16a0b-8176-459c-9083-67604b1b4a31",
   "metadata": {},
   "source": [
    "## Bringing it all together\n",
    "So now we have all the tools we need, all we need to do is bring it together. What will this involve?\n",
    "- Add a noise model\n",
    "- Check how well the code performs, e.g. logical error rate vs physical error rate.\n",
    "\n",
    "For now, let's just create a simple Pauli error noise model. This will just apply an $X$, $Z$ or a combination ($Y$) randomly to the 9 data qubits, given a single qubit error probability."
   ]
  },
  {
   "cell_type": "code",
   "execution_count": 14,
   "id": "383f0692-d20e-4580-8d14-d5db66af9dc4",
   "metadata": {},
   "outputs": [],
   "source": [
    "import random\n",
    "def apply_random_pauli_errors(circuit, prob):\n",
    "    \"\"\"\n",
    "    Apply random X, Y, or Z gate errors to each qubit in the given circuit with a given probability.\n",
    "\n",
    "    Args:\n",
    "    - circuit (QuantumCircuit): The quantum circuit to which the errors will be applied.\n",
    "    - prob (float): The probability with which an error occurs on each qubit.\n",
    "\n",
    "    Returns:\n",
    "    - QuantumCircuit: The modified quantum circuit.\n",
    "    \"\"\"\n",
    "    num_qubits = circuit.num_qubits\n",
    "\n",
    "    # Ensure that the circuit has at least 9 qubits\n",
    "    if num_qubits < 9:\n",
    "        raise ValueError(\"Circuit must have at least 9 qubits\")\n",
    "\n",
    "    for qubit_index in range(9):  # Iterate over qubits 0 to 8\n",
    "        # Generate a random number to decide if the error should be applied to this qubit\n",
    "        if random.random() < prob:\n",
    "            # Randomly choose between an X, Y, or Z gate\n",
    "            gate_choice = random.choice(['x', 'y', 'z'])\n",
    "\n",
    "            # Apply the chosen gate to the qubit\n",
    "            getattr(circuit, gate_choice)(qubit_index)\n",
    "\n",
    "    return circuit"
   ]
  },
  {
   "cell_type": "markdown",
   "id": "096efa15-620f-400a-99f7-4d23ea47df08",
   "metadata": {},
   "source": [
    "#### Qiskit's Density Matricies & State Vectors\n",
    "To allow us to compare initial and final states (to allow us to calculate logical error rate), we would ideally use qiskits `save_density_matrix` function along with `state_fidelity`. However a $2^{17} \\times 2^{17}$ density matrix is a bit too big for this hardware, so we have to just work with the statevector at the moment instead."
   ]
  },
  {
   "cell_type": "code",
   "execution_count": 15,
   "id": "c945d7d6-5212-44c7-b91b-fb1abbc4ae44",
   "metadata": {},
   "outputs": [
    {
     "name": "stdout",
     "output_type": "stream",
     "text": [
      "Statevector([0.70710678+0.j, 0.70710678+0.j, 0.        +0.j,\n",
      "             0.        +0.j],\n",
      "            dims=(2, 2))\n"
     ]
    }
   ],
   "source": [
    "# Create your quantum circuit\n",
    "from qiskit.quantum_info import state_fidelity, Statevector\n",
    "import numpy as np\n",
    "\n",
    "qc = QuantumCircuit(2,2)\n",
    "\n",
    "qc.h(0)\n",
    "s = Statevector(qc)\n",
    "print(s)"
   ]
  },
  {
   "cell_type": "markdown",
   "id": "af2181e3-e449-4932-9293-1d2f418083fd",
   "metadata": {},
   "source": [
    "Let's do this and build the full thing!"
   ]
  },
  {
   "cell_type": "code",
   "execution_count": 16,
   "id": "e8f6d585-545b-468b-9367-ccf8711ba30c",
   "metadata": {},
   "outputs": [],
   "source": [
    "def run_simulation(num_shots, num_cycles, p_err):\n",
    "    fidelities = []\n",
    "    simulator = Aer.get_backend('aer_simulator')\n",
    "    state_simulator = Aer.get_backend('statevector_simulator')\n",
    "\n",
    "    # error = pauli_error([('X', 0.5 * p_err), ('Z', 0.5 * p_err), ('I', 1.0 - p_err)])\n",
    "    \n",
    "    for shot in range(num_shots):\n",
    "        qreg = 17\n",
    "        d3_sc = QuantumCircuit(qreg)\n",
    "        classical_regs = [ClassicalRegister(8, f'c{cycle}') for cycle in range(num_cycles+1)]\n",
    "\n",
    "        for cycle in range(num_cycles):\n",
    "            simulate_surface_17(d3_sc, classical_regs[cycle])\n",
    "\n",
    "            if cycle == 0:  # Cycle 0 is state preparation\n",
    "                d3_sc.save_statevector(label='initial_state')\n",
    "\n",
    "            #==========================================\n",
    "            # if cycle != num_cycles - 1:\n",
    "            #     for i in range(0, 9):\n",
    "            #         d3_sc.append(error, [i])\n",
    "            if cycle != num_cycles - 1:\n",
    "                apply_random_pauli_errors(d3_sc, p_err)\n",
    "\n",
    "            #==========================================\n",
    "\n",
    "\n",
    "\n",
    "        job = execute(d3_sc, simulator, shots=1)\n",
    "        result = job.result().get_counts()\n",
    "        #----------------------------------------------\n",
    "        # print(result)\n",
    "        #----------------------------------------------\n",
    "\n",
    "        err_report = decode_errors(result)\n",
    "        #----------------------------------------------\n",
    "        # print(err_report)\n",
    "        #----------------------------------------------\n",
    "\n",
    "        apply_error_corrections(d3_sc, err_report)\n",
    "        #----------------------------------------------\n",
    "        #Cycle through once more after applying corrections (?) <----- This is to put ancillas back into desired 'quiescent state' \n",
    "        simulate_surface_17(d3_sc,classical_regs[num_cycles])\n",
    "        #----------------------------------------------\n",
    "\n",
    "        #Save the final state statevector\n",
    "        d3_sc.save_statevector(label='final_state')\n",
    "\n",
    "        #Run the statevector jobs\n",
    "        transpiled_qc = transpile(d3_sc, state_simulator)\n",
    "        sv_job = state_simulator.run(transpiled_qc)\n",
    "        sv_result = sv_job.result()\n",
    "        initial_state = sv_result.data()['initial_state']\n",
    "        final_state = sv_result.data()['final_state']\n",
    "\n",
    "        #Calculate fidelity\n",
    "        fidelity = state_fidelity(initial_state, final_state)\n",
    "        fidelities.append(fidelity)\n",
    "        \n",
    "    average_fidelity = sum(fidelities) / num_shots\n",
    "    return average_fidelity"
   ]
  },
  {
   "cell_type": "markdown",
   "id": "51ed9d97-8c98-452d-815e-b5474eff7fba",
   "metadata": {},
   "source": [
    "Example usage: "
   ]
  },
  {
   "cell_type": "code",
   "execution_count": 18,
   "id": "8233001f-d6ad-4340-9c9d-549d2d0f1d4a",
   "metadata": {},
   "outputs": [
    {
     "name": "stdout",
     "output_type": "stream",
     "text": [
      "Time taken = 28.448439359664917 seconds\n",
      "Average fidelity across all shots:  1.0\n"
     ]
    }
   ],
   "source": [
    "import time\n",
    "# Example usage of the function\n",
    "num_shots = 100\n",
    "num_cycles = 2\n",
    "p_err = 0.01\n",
    "start_time = time.time()\n",
    "average_fidelity = run_simulation(num_shots, num_cycles, p_err)\n",
    "end_time = time.time()\n",
    "\n",
    "\n",
    "print(f\"Time taken = {end_time - start_time} seconds\")\n",
    "print(\"Average fidelity across all shots: \", round(average_fidelity, 3))"
   ]
  },
  {
   "cell_type": "markdown",
   "id": "8906fda3-8878-4ef1-bc1a-22781ad68905",
   "metadata": {},
   "source": [
    "Let's check how well the code performs under these simple Pauli errors. We will plot the average fidelity against the single qubit Pauli error (`p_err`) probability."
   ]
  },
  {
   "cell_type": "code",
   "execution_count": 25,
   "id": "8f13d05d-0407-4efb-bf09-1bab4f1dc42f",
   "metadata": {},
   "outputs": [
    {
     "name": "stdout",
     "output_type": "stream",
     "text": [
      "Time taken = 341.1859724521637 seconds\n"
     ]
    },
    {
     "data": {
      "image/png": "[encoded data removed]",
      "text/plain": [
       "<Figure size 1000x600 with 1 Axes>"
      ]
     },
     "metadata": {},
     "output_type": "display_data"
    }
   ],
   "source": [
    "num_shots = 1000\n",
    "num_cycles = 5\n",
    "p_err_values = np.arange(0.001, 0.02, 0.002)  # p_err from 0.001 to 0.01 in steps of 0.001\n",
    "average_fidelities = []\n",
    "\n",
    "for p_err in p_err_values:\n",
    "    start_time = time.time()\n",
    "    average_fidelity = run_simulation(num_shots, num_cycles, p_err)\n",
    "    end_time = time.time()\n",
    "\n",
    "    # print(f\"p_err = {round(p_err,2)}, Average Fidelity = {round(average_fidelity, 3)}\")\n",
    "    \n",
    "    average_fidelities.append(average_fidelity)\n",
    "\n",
    "\n",
    "print(f\"Time taken = {end_time - start_time} seconds\")\n",
    "\n",
    "# Plotting the graph\n",
    "plt.figure(figsize=(10, 6))\n",
    "plt.plot(p_err_values, average_fidelities, marker='o')\n",
    "plt.plot(p_err_values, 1 - p_err_values, linestyle='--', alpha=0.5, color='gray', label='Break Even')\n",
    "plt.title(f\"Average Fidelity vs Physical Error Rate for {num_cycles} Cycles of Surface 17\")\n",
    "plt.xlabel(\"Physical Error Rate (p_err)\")\n",
    "plt.ylabel(\"Average Fidelity\")\n",
    "plt.grid(True)\n",
    "plt.legend()\n",
    "plt.show()"
   ]
  },
  {
   "cell_type": "markdown",
   "id": "f5e50bae-0427-40dc-b726-3bb43bc4e96c",
   "metadata": {},
   "source": [
    "#### Not currently compatible with qiskits quantum channel\n",
    "Currently, when trying to implement qiskits own quantum channels (e.g. `error = pauli_error([('X', 0.5 * p_err), ('Z', 0.5 * p_err), ('I', 1.0 - p_err)])`), this messes up the fidelity, and causes a different final state, even when no errors occur. This may be due to the method of executing the statevectors...\n",
    "\n",
    "Another frustrating issue is that qiskit doesn't (seem to) allow the execution of mid-circuit measurements during the computation, as measurements after this will 're-write' the previous measurement results (so if there is any probabilistic state collapse, the state could collapse to one state during the first measurement, then a different one during the second measurement). This makes it hard to extract error syndromes during the computation, and as we've done, we have to extract all error syndromes at the end of $n$ cycles."
   ]
  }
 ],
 "metadata": {
  "kernelspec": {
   "display_name": "Python 3 (ipykernel)",
   "language": "python",
   "name": "python3"
  },
  "language_info": {
   "codemirror_mode": {
    "name": "ipython",
    "version": 3
   },
   "file_extension": ".py",
   "mimetype": "text/x-python",
   "name": "python",
   "nbconvert_exporter": "python",
   "pygments_lexer": "ipython3",
   "version": "3.10.12"
  }
 },
 "nbformat": 4,
 "nbformat_minor": 5
}
