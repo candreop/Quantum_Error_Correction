{
 "cells": [
  {
   "cell_type": "markdown",
   "id": "fa0a20f1",
   "metadata": {},
   "source": [
    "# Surface Code\n",
    "Notebook for playing around and building a surface code using Qiskit. We begin by following [An introduction to the surface code, Andrew N. Cleland](https://scipost.org/SciPostPhysLectNotes.49/pdf). \n",
    "\n",
    "### Simple Examples\n",
    "Let's first create the quantum circuit for one surface code cycle for a measure-Z qubit, forcing data qubits into an eigenstate of (stabilizes) $Z_0Z_1Z_2Z_3$ and for a measure-X qubit, which stabilizes $X_0X_1X_2X_3$ (i.e. figure 20 from the paper)."
   ]
  },
  {
   "cell_type": "code",
   "execution_count": 1,
   "id": "29822242",
   "metadata": {},
   "outputs": [
    {
     "data": {
      "text/html": [
       "<pre style=\"word-wrap: normal;white-space: pre;background: #fff0;line-height: 1.1;font-family: &quot;Courier New&quot;,Courier,monospace\">     ┌───┐┌───┐┌───┐┌───┐┌─┐\n",
       "q_0: ┤ X ├┤ X ├┤ X ├┤ X ├┤M├\n",
       "     └─┬─┘└─┬─┘└─┬─┘└─┬─┘└╥┘\n",
       "q_1: ──■────┼────┼────┼───╫─\n",
       "            │    │    │   ║ \n",
       "q_2: ───────■────┼────┼───╫─\n",
       "                 │    │   ║ \n",
       "q_3: ────────────■────┼───╫─\n",
       "                      │   ║ \n",
       "q_4: ─────────────────■───╫─\n",
       "                          ║ \n",
       "c: 1/═════════════════════╩═\n",
       "                          0 </pre>"
      ],
      "text/plain": [
       "     ┌───┐┌───┐┌───┐┌───┐┌─┐\n",
       "q_0: ┤ X ├┤ X ├┤ X ├┤ X ├┤M├\n",
       "     └─┬─┘└─┬─┘└─┬─┘└─┬─┘└╥┘\n",
       "q_1: ──■────┼────┼────┼───╫─\n",
       "            │    │    │   ║ \n",
       "q_2: ───────■────┼────┼───╫─\n",
       "                 │    │   ║ \n",
       "q_3: ────────────■────┼───╫─\n",
       "                      │   ║ \n",
       "q_4: ─────────────────■───╫─\n",
       "                          ║ \n",
       "c: 1/═════════════════════╩═\n",
       "                          0 "
      ]
     },
     "execution_count": 1,
     "metadata": {},
     "output_type": "execute_result"
    }
   ],
   "source": [
    "from qiskit import QuantumCircuit, QuantumRegister, ClassicalRegister, Aer, execute, transpile\n",
    "from qiskit.quantum_info import Statevector\n",
    "import numpy as np\n",
    "\n",
    "#Declare backend we will use throughout\n",
    "simulator = Aer.get_backend('aer_simulator')\n",
    "\n",
    "# Create a Quantum Register with 5 qubits (4 data qubits and 1 ancilla qubit for stabilzer +measurement)\n",
    "qreg = QuantumRegister(5, 'q')\n",
    "\n",
    "# Create a Classical Register with 1 bit\n",
    "creg = ClassicalRegister(1, 'c')\n",
    "\n",
    "# Create an Z measure Quantum Circuit \n",
    "Zcircuit = QuantumCircuit(qreg, creg)\n",
    "\n",
    "# Entangle the data qubits with the ancilla qubit\n",
    "for i in range(1,5):\n",
    "    Zcircuit.cx(qreg[i], qreg[0])  # Apply CX gate between data qubit and ancilla\n",
    "\n",
    "# Measure the ancilla qubit and store the result in the classical bit\n",
    "Zcircuit.measure(qreg[0], creg[0])\n",
    "\n",
    "Zcircuit.draw()"
   ]
  },
  {
   "cell_type": "markdown",
   "id": "4e27a2da-3704-4e95-97eb-6bfef335aa3e",
   "metadata": {},
   "source": [
    "Once we make projective measurement of the measure qubits e.g. for $Z$ measure qubit, the state will\n",
    "be $$Z_{0123}|\\psi\\rangle$$ ($Z_{0123} = \\pm 1$). This state is the quiescent state. When we extend to a full array, starting with the very first complete measurement cycle when starting up a surface code, the $Z$ measure and $X$ measure take whatever initial state the data qubits are in, and project from that state a complex entangled state $|\\psi\\rangle$ that is a simultaneous eigenstate of all the measurements across the array. Once selected, in the absence of errors, the same state $|\\psi\\rangle$ will be maintained by each\n",
    "subsequent cycle of the sequence, with each measure qubit yielding the same measurement\n",
    "outcome as it measured in the previous cycle (due to the stabilizer measurements commuting). Let's illustrate this by first just considering the $Z$ measure circuit."
   ]
  },
  {
   "cell_type": "code",
   "execution_count": 2,
   "id": "e0666902-7e0a-4389-8856-9641a5d4a36d",
   "metadata": {},
   "outputs": [
    {
     "name": "stdout",
     "output_type": "stream",
     "text": [
      "Pre Measurement State:  [0.70710678 0.         0.         0.         0.         0.\n",
      " 0.         0.         0.         0.         0.         0.\n",
      " 0.         0.         0.         0.70710678 0.         0.\n",
      " 0.         0.         0.         0.         0.         0.\n",
      " 0.         0.         0.         0.         0.         0.\n",
      " 0.         0.        ] \n",
      "\n",
      "Cycle 0 Measurement: 1\n",
      "Cycle 1 Measurement: 1\n",
      "Cycle 2 Measurement: 1\n",
      "Cycle 3 Measurement: 1\n",
      "Cycle 4 Measurement: 1\n"
     ]
    }
   ],
   "source": [
    "num_cycles = 5\n",
    "\n",
    "# Create a Quantum Register with 5 qubits (4 data qubits and 1 ancilla qubit for stabilizer + measurement)\n",
    "qreg = QuantumRegister(5, 'q')\n",
    "# Create a Classical Register with a bit for each cycle\n",
    "creg = ClassicalRegister(num_cycles, 'c')\n",
    "# Create a Quantum Circuit for each cycle\n",
    "Zcircuit = QuantumCircuit(qreg, creg)\n",
    "\n",
    "# Create an arbitrary initial state for data qubits (we choose 1/sqrt{2}(|0000> + |0111>) for illustration)\n",
    "Zcircuit.h(1)\n",
    "Zcircuit.cx(1,2)\n",
    "Zcircuit.cx(2,3)\n",
    "\n",
    "for cycle in range(num_cycles):\n",
    "    # Reset the ancilla qubit to the |0> state\n",
    "    Zcircuit.reset(qreg[0])\n",
    "\n",
    "    # Entangle the data qubits with the ancilla qubit\n",
    "    for i in range(1, 5):\n",
    "        Zcircuit.cx(qreg[i], qreg[0])\n",
    "\n",
    "    # Seeing the state of our initial circuit for visualization\n",
    "    if cycle == 0:\n",
    "        state_simulator = Aer.get_backend('statevector_simulator')\n",
    "        job = execute(Zcircuit, state_simulator)\n",
    "        state_vector = job.result().get_statevector()\n",
    "\n",
    "    # Measure the ancilla qubit and store the result in the classical register\n",
    "    Zcircuit.measure(qreg[0], creg[cycle])\n",
    "\n",
    "# Execute the circuit\n",
    "job = execute(Zcircuit, simulator, shots=1)\n",
    "result = job.result().get_counts()\n",
    "\n",
    "# Print pre-measurement state\n",
    "print(\"Pre Measurement State: \", np.asarray(state_vector).real, \"\\n\")\n",
    "\n",
    "# Extract and print the measurement result for each cycle\n",
    "measurement_results = list(result.keys())[0]  # Assuming a single shot, so only one key\n",
    "for cycle in range(num_cycles):\n",
    "    # In Qiskit, the bits are in reverse order\n",
    "    cycle_measurement = measurement_results[-1-cycle]\n",
    "    print(f\"Cycle {cycle} Measurement: {cycle_measurement}\")\n"
   ]
  },
  {
   "cell_type": "markdown",
   "id": "3ba87ed6-b6cd-416b-8db4-b85df8a2a306",
   "metadata": {},
   "source": [
    "Here we can see an illustration of this. The initial state is $$\\frac{1}{\\sqrt{2}} (|0000\\rangle + |0111\\rangle)\\otimes |0\\rangle$$. Then, after the cycle (pre-measurement), the ancilla becomes entangled with the data qubits and the state is $1/\\sqrt{2} (|00000\\rangle + |01111\\rangle)$. Now we can clearly see that a measurement of 0 or 1 of the ancilla will causes the state to collapse to a +1 ($|0000\\rangle$) or -1 ($|0111\\rangle$)  eigenstate of the $Z_0 Z_1 Z_2 Z_3$ stabilizer respectively. This collpased state is the quiescent state, and we can see from the other ancilla qubit measurements that this state remains throughout the following cycles (provided there's no errors!). We can now see this is the case for the $X$-measure qubit too."
   ]
  },
  {
   "cell_type": "code",
   "execution_count": 3,
   "id": "8ff0f107-6c82-456b-a5e3-eacff391234b",
   "metadata": {},
   "outputs": [
    {
     "name": "stdout",
     "output_type": "stream",
     "text": [
      "Pre Measurement State:  [ 0.5  0.5  0.   0.   0.   0.   0.   0.   0.   0.   0.   0.   0.   0.\n",
      "  0.   0.   0.   0.   0.   0.   0.   0.   0.   0.   0.   0.   0.   0.\n",
      "  0.   0.   0.5 -0.5] \n",
      "\n",
      "Cycle 0 Measurement: 0\n",
      "Cycle 1 Measurement: 0\n",
      "Cycle 2 Measurement: 0\n"
     ]
    }
   ],
   "source": [
    "num_cycles = 3\n",
    "\n",
    "# Create a Quantum Register with 5 qubits (4 data qubits and 1 ancilla qubit for stabilizer + measurement)\n",
    "qreg = QuantumRegister(5, 'q')\n",
    "# Create a Classical Register with a bit for each cycle\n",
    "creg = ClassicalRegister(num_cycles, 'c')\n",
    "# Create a Quantum Circuit for each cycle\n",
    "Xcircuit = QuantumCircuit(qreg, creg)\n",
    "\n",
    "# Initialize data qubits to |0000>\n",
    "# No additional gates needed as qubits are initialized to |0> by default\n",
    "\n",
    "for cycle in range(num_cycles):\n",
    "    # Reset the ancilla qubit to the |0> state\n",
    "    Xcircuit.reset(qreg[0])\n",
    "\n",
    "    #Change ancilla basis\n",
    "    Xcircuit.h(qreg[0])\n",
    "\n",
    "    # Entangle the data qubits with the ancilla qubit (now ancilla is the control)\n",
    "    for i in range(1, 5):\n",
    "        Xcircuit.cx(qreg[0], qreg[i])\n",
    "\n",
    "\n",
    "    #Change the ancilla basis\n",
    "    Xcircuit.h(qreg[0])\n",
    "    \n",
    "    # Seeing the state of our initial circuit for visualization\n",
    "    if cycle == 0:\n",
    "        state_simulator = Aer.get_backend('statevector_simulator')\n",
    "        job = execute(Xcircuit, state_simulator)\n",
    "        state_vector = job.result().get_statevector()\n",
    "\n",
    "    # Measure the ancilla qubit and store the result in the classical register\n",
    "    Xcircuit.measure(qreg[0], creg[cycle])\n",
    "\n",
    "# Execute the circuit\n",
    "simulator = Aer.get_backend('aer_simulator')\n",
    "job = execute(Xcircuit, simulator, shots=1)\n",
    "result = job.result().get_counts()\n",
    "\n",
    "# Print pre-measurement state\n",
    "print(\"Pre Measurement State: \", np.asarray(state_vector).real, \"\\n\")\n",
    "\n",
    "# Extract and print the measurement result for each cycle\n",
    "measurement_results = list(result.keys())[0]  # Assuming a single shot, so only one key\n",
    "for cycle in range(num_cycles):\n",
    "    # In Qiskit, the bits are in reverse order\n",
    "    cycle_measurement = measurement_results[-1-cycle]\n",
    "    print(f\"Cycle {cycle} Measurement: {cycle_measurement}\")\n"
   ]
  },
  {
   "cell_type": "markdown",
   "id": "7a2502c9-d0b8-439f-892c-3262625bd103",
   "metadata": {},
   "source": [
    "We also see the same thing here. The initial state of the data qubits is $|0000\\rangle$, then the entanglement with the ancilla projects the state to \n",
    "$$\n",
    "\\large |\\psi\\rangle = \\frac{1}{2}\\left((|0000\\rangle + |1111\\rangle) \\otimes |0\\rangle + (|0000\\rangle - |1111\\rangle) \\otimes |1\\rangle)\\right).\n",
    "$$\n",
    "So then measurement of the $X$-type ancilla leaves the system in one of two possible eigenstates of $X_1X_2X_3X_4$, with the ancilla measurement indicating which: 0 (1) for +1 (-1) eigenvalue.\n",
    "\n",
    "### 7 qubit Error Detection Surface Code\n",
    "The smallest possible surface code (working from [Repeated Quantum Error Detection in a Surface Code](https://arxiv.org/pdf/1912.09410.pdf)) has 7 qubits, 4 data qubits ($D_1, D_2, D_3, D_4$), 2 $Z$ ancillas ($Z_1Z_2$) and 1 $X$ ancilla ($X_1$)."
   ]
  },
  {
   "cell_type": "code",
   "execution_count": 4,
   "id": "26fc65fa-9b3a-430c-87ae-5545178f2ae1",
   "metadata": {},
   "outputs": [
    {
     "data": {
      "image/png": "[encoded data removed]",
      "text/plain": [
       "<Figure size 640x480 with 1 Axes>"
      ]
     },
     "metadata": {},
     "output_type": "display_data"
    }
   ],
   "source": [
    "import matplotlib.pyplot as plt\n",
    "import networkx as nx\n",
    "\n",
    "# Create a new graph\n",
    "G = nx.Graph()\n",
    "\n",
    "# Add nodes with positions\n",
    "positions = {'D1': (0, 1), 'D2': (2, 1), 'D3': (0, -1), 'D4': (2, -1),\n",
    "             'Z1': (-1, 0), 'X1': (1, 0), 'Z2': (3,0 )}\n",
    "\n",
    "for node, pos in positions.items():\n",
    "    G.add_node(node, pos=pos)\n",
    "\n",
    "# Add edges between nodes\n",
    "edges = [('D1', 'Z1'), ('D1', 'X1'), ('D2', 'X1'), ('D2', 'Z2'), \n",
    "         ('D3', 'Z1'), ('D3', 'X1'), ('D4', 'X1'), ('D4', 'Z2')]\n",
    "\n",
    "G.add_edges_from(edges)\n",
    "\n",
    "# Draw the graph\n",
    "nx.draw(G, positions, with_labels=True, node_size=500, node_color='lightblue', font_size=8)\n",
    "plt.show()\n"
   ]
  },
  {
   "cell_type": "markdown",
   "id": "d8704f82-75db-4efc-b487-5eb538f3b38b",
   "metadata": {},
   "source": [
    "Let's try to build the circuit, using what we know from above and the Cleland paper. Qubit 4 will be the X ancilla, qubits 5 (z1) and 6 (z2) will be the z ancillas. The codewords are\n",
    "$$\n",
    "|0\\rangle_L = \\frac{1}{\\sqrt{2}}(|0000\\rangle + |1111\\rangle), \\quad |1\\rangle_L = \\frac{1}{\\sqrt{2}}(|1010\\rangle + |0101\\rangle)\n",
    "$$\n",
    "\n",
    "and the stabilizers are\n",
    "$$\n",
    "X_1 X_2 X_3 X_4, \\quad Z_1Z_3, \\quad Z_2 Z_4\n",
    "$$\n",
    "\n",
    "So we can detect single phase flip errors from the $X$ stabilizer measurement $$X_1X_2X_3X_4\\left(Z_\\mu|\\psi\\rangle\\right) = -Z_\\mu\\left(X_1X_2X_3X_4|\\psi\\rangle\\right)\\\\\n",
    "= -X_{1234}\\left(Z_\\mu|\\psi\\rangle\\right)$$\n",
    "and up to 2 bit flips (provided they are on qubits connected to different $Z$ stabilizers), e.g.\n",
    "$$\n",
    "Z_1Z_3\\left(X_1 |\\psi\\rangle\\right) = -Z_{13}\\left(X_1 |\\psi\\rangle\\right)\n",
    "$$\n",
    "and \n",
    "$$\n",
    "Z_2Z_4\\left(X_3 |\\psi\\rangle\\right) = -Z_{24}\\left(X_3|\\psi\\rangle\\right)\n",
    "$$"
   ]
  },
  {
   "cell_type": "code",
   "execution_count": 5,
   "id": "a98e1d8f-99d1-466f-b17f-b02508ddc54b",
   "metadata": {},
   "outputs": [
    {
     "name": "stdout",
     "output_type": "stream",
     "text": [
      "State:  [ 0.5  0.   0.   0.   0.   0.   0.   0.   0.   0.   0.   0.   0.   0.\n",
      "  0.   0.5  0.5  0.   0.   0.   0.   0.   0.   0.   0.   0.   0.   0.\n",
      "  0.   0.   0.  -0.5  0.   0.   0.   0.   0.   0.   0.   0.   0.   0.\n",
      "  0.   0.   0.   0.   0.   0.   0.   0.   0.   0.   0.   0.   0.   0.\n",
      "  0.   0.   0.   0.   0.   0.   0.   0.   0.   0.   0.   0.   0.   0.\n",
      "  0.   0.   0.   0.   0.   0.   0.   0.   0.   0.   0.   0.   0.   0.\n",
      "  0.   0.   0.   0.   0.   0.   0.   0.   0.   0.   0.   0.   0.   0.\n",
      "  0.   0.   0.   0.   0.   0.   0.   0.   0.   0.   0.   0.   0.   0.\n",
      "  0.   0.   0.   0.   0.   0.   0.   0.   0.   0.   0.   0.   0.   0.\n",
      "  0.   0. ] \n",
      " Result:  {'000': 511, '001': 489}\n"
     ]
    },
    {
     "data": {
      "image/png": "[encoded data removed]",
      "text/plain": [
       "<Figure size 1290.83x702.333 with 1 Axes>"
      ]
     },
     "execution_count": 5,
     "metadata": {},
     "output_type": "execute_result"
    }
   ],
   "source": [
    "# Create a Quantum Register with 7 qubits (4 data qubits and 3 ancilla qubits for stabilizer + measurement)\n",
    "qreg = QuantumRegister(7, 'q')\n",
    "\n",
    "# Create a Classical Register\n",
    "creg = ClassicalRegister(3, 'c')\n",
    "\n",
    "# Create a Quantum Circuit for each cycle\n",
    "sevenq_sc = QuantumCircuit(qreg, creg)\n",
    "\n",
    "# Entangle with X ancilla (same as above)\n",
    "sevenq_sc.h(qreg[4])\n",
    "\n",
    "for i in range (0,4):\n",
    "    sevenq_sc.cx(qreg[4], qreg[i]) #Remembering X type is control\n",
    "    \n",
    "sevenq_sc.h(qreg[4])\n",
    "\n",
    "#Entangle with Z_1\n",
    "sevenq_sc.cx(qreg[0], qreg[5])\n",
    "sevenq_sc.cx(qreg[2], qreg[5])\n",
    "\n",
    "#entangle with Z_2\n",
    "sevenq_sc.cx(qreg[1], qreg[6])\n",
    "sevenq_sc.cx(qreg[3], qreg[6])\n",
    "\n",
    "sevenq_sc.barrier()\n",
    "\n",
    "#Check the pre-measurement state\n",
    "state_simulator = Aer.get_backend('statevector_simulator')\n",
    "job = execute(sevenq_sc, state_simulator)\n",
    "state_vector = job.result().get_statevector()\n",
    "\n",
    "#Measure ancillas\n",
    "for i in range(0, 3):\n",
    "        sevenq_sc.measure(qreg[i+4], creg[i])\n",
    "\n",
    "# Execute the circuit\n",
    "job = execute(sevenq_sc, simulator, shots=1000)\n",
    "result = job.result().get_counts()\n",
    "\n",
    "print(\"State: \", np.asarray(state_vector).real, \"\\n Result: \", result)\n",
    "sevenq_sc.draw('mpl')"
   ]
  },
  {
   "cell_type": "markdown",
   "id": "d4cbe97e-f43c-4b5e-94fe-71873c464e7d",
   "metadata": {},
   "source": [
    "We can see that we will be in our desired quiescent state when the ancillas are measured to all be $|000\\rangle$ (which happens half the time). So let's now create a function to see how well the 7 qubit error detection surface code detects errors. Instead of running the circuit with all qubits starting in the $|0\\rangle$ state, we'll just assume that the quiescent state is $|0\\rangle_L$, as defined above. We currently just implement for Pauli errors."
   ]
  },
  {
   "cell_type": "code",
   "execution_count": 6,
   "id": "0cc1bf5f-1c7c-4c7e-9cdd-b52ffeb64f91",
   "metadata": {},
   "outputs": [
    {
     "data": {
      "image/png": "[encoded data removed]",
      "text/plain": [
       "<Figure size 700x500 with 1 Axes>"
      ]
     },
     "execution_count": 6,
     "metadata": {},
     "output_type": "execute_result"
    }
   ],
   "source": [
    "from qiskit.visualization import plot_histogram\n",
    "from qiskit.providers.aer.noise import pauli_error\n",
    "\n",
    "def simulate_surface7(num_cycles, p_pauli=0.0):\n",
    "    \"\"\"\n",
    "    Simulates the 7-qubit surface code for a given number of cycles.\n",
    "\n",
    "    Parameters:\n",
    "    num_cycles (int): The number of error correction cycles to simulate.\n",
    "    p_pauli (float, optional): The probability of a Pauli error (X or Z) occurring. Defaults to 0.0.\n",
    "\n",
    "    The circuit performs the following steps for each cycle:\n",
    "    - Applies Pauli errors based on the error model.\n",
    "    - Resets ancilla qubits.\n",
    "    - Entangles qubits to perform error correction.\n",
    "    - Measures the state of ancilla qubits.\n",
    "    \n",
    "    Returns:\n",
    "    dict: A dictionary of measurement outcomes with their corresponding counts.\n",
    "    \"\"\"\n",
    "    \n",
    "    # Initialize registers and circuit\n",
    "    qreg = QuantumRegister(7, 'q')\n",
    "    creg = ClassicalRegister(num_cycles * 3, 'c')\n",
    "    circuit = QuantumCircuit(qreg, creg)\n",
    "\n",
    "    # Define the state vector for the equal superposition of |0000> and |1111>\n",
    "    state = [1/2**0.5, 0, 0, 0, 0, 0, 0, 0, 0, 0, 0, 0, 0, 0, 0, 1/2**0.5]\n",
    "    circuit.initialize(state, [0, 1, 2, 3])\n",
    "    \n",
    "    # Define Pauli error model\n",
    "    error = pauli_error([('X', 0.5 * p_pauli), ('Z', 0.5 * p_pauli), ('I', 1.0 - p_pauli)])\n",
    "\n",
    "    for cycle in range(num_cycles):\n",
    "        \n",
    "        # Append Pauli errors to each data qubit at the beginning of the cycle\n",
    "        for i in range(4):\n",
    "            circuit.append(error, [i])\n",
    "            \n",
    "        # Reset ancillas\n",
    "        for i in range(4, 7):\n",
    "            circuit.reset(qreg[i])\n",
    "\n",
    "        # Entangle with X ancilla\n",
    "        circuit.h(qreg[4])\n",
    "        for i in range(4):\n",
    "            circuit.cx(qreg[4], qreg[i])  # X type is control\n",
    "        circuit.h(qreg[4])\n",
    "\n",
    "        # Entangle with Z_1\n",
    "        circuit.cx(qreg[0], qreg[5])\n",
    "        circuit.cx(qreg[2], qreg[5])\n",
    "\n",
    "        # Entangle with Z_2\n",
    "        circuit.cx(qreg[1], qreg[6])\n",
    "        circuit.cx(qreg[3], qreg[6])\n",
    "\n",
    "        # Measure ancillas\n",
    "        for i in range(3):\n",
    "            circuit.measure(qreg[i + 4], creg[cycle * 3 + i])\n",
    "\n",
    "\n",
    "        circuit.barrier()\n",
    "\n",
    "    # Execute the circuit and get the result\n",
    "    simulator = Aer.get_backend('aer_simulator')\n",
    "    job = execute(circuit, simulator, shots=10000)\n",
    "    result = job.result().get_counts()\n",
    "\n",
    "    return result\n",
    "\n",
    "# Example Usage\n",
    "num_cycles = 1\n",
    "p_pauli = 0.01 # Example probability for Pauli errors\n",
    "result = simulate_surface7(num_cycles, p_pauli)\n",
    "\n",
    "# Plot the histogram\n",
    "plot_histogram(result)"
   ]
  },
  {
   "cell_type": "markdown",
   "id": "fe9ab85d-5120-41ca-b32a-22160ede56ca",
   "metadata": {},
   "source": [
    "Here we see the codes ability to detect errors. "
   ]
  },
  {
   "cell_type": "markdown",
   "id": "ea1d9764-fab0-4f0f-a7dd-a88fa98dd339",
   "metadata": {},
   "source": [
    "So we see the state will collapse to any one of the eigenstates of the stabilizers. Then, in the abscence of errors, this state will remain throughout all cycles, and the ancilla measurements will be the same. With the presence of errors, the error will causes a unique change in the ancilla readout/syndrome measurement."
   ]
  }
 ],
 "metadata": {
  "kernelspec": {
   "display_name": "Python 3 (ipykernel)",
   "language": "python",
   "name": "python3"
  },
  "language_info": {
   "codemirror_mode": {
    "name": "ipython",
    "version": 3
   },
   "file_extension": ".py",
   "mimetype": "text/x-python",
   "name": "python",
   "nbconvert_exporter": "python",
   "pygments_lexer": "ipython3",
   "version": "3.10.12"
  }
 },
 "nbformat": 4,
 "nbformat_minor": 5
}
