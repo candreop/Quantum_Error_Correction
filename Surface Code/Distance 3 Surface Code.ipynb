{
 "cells": [
  {
   "cell_type": "markdown",
   "id": "86b4bdf2-b533-4d67-8e06-6dc6033b1a85",
   "metadata": {},
   "source": [
    "# 17 Qubit Surface Code\n",
    "Following [Low-distance Surface Codes under Realistic Quantum Noise](https://arxiv.org/pdf/1404.3747.pdf), we aim to implement the distance = 3 17 qubit surface code (mainly as it's less resource intensive than the same distance 25 qubit counterpart). The surface-17 consists of 9 data qubits and 8 ancilla qubits.  The stabilizers for the surface-17 are:\n",
    "- X Stabilizers:\n",
    "  - $ X_0 X_1 X_3 X_4 $\n",
    "  - $ X_1 X_2 $\n",
    "  - $ X_4 X_5 X_7 X_8 $\n",
    "  - $ X_6 X_7 $\n",
    "  \n",
    "- Z Stabilizers:\n",
    "  - $ Z_0 Z_3 $\n",
    "  - $ Z_1 Z_2 Z_4 Z_5 $\n",
    "  - $ Z_3 Z_4 Z_6 Z_7 $\n",
    "  - $ Z_5 Z_8 $\n",
    "\n",
    "As an aside, it may seem like an issue that a $Z$ error on qubits 0 and 3 (as $X$ stabilizers check $Z$ errors!) will lead to the same syndome (and $X$ errors for qubits 1 and 2 etc...). However this is not an issue, as we can correct either $Z_1$ or $Z_3$ as it's a stabilizer."
   ]
  },
  {
   "cell_type": "code",
   "execution_count": 4,
   "id": "ac9f4bc7-b4c1-4b51-adb6-8d3be7e3396c",
   "metadata": {},
   "outputs": [],
   "source": [
    "#Imports\n",
    "from qiskit import QuantumCircuit, QuantumRegister, ClassicalRegister, Aer, execute, transpile\n",
    "from qiskit.quantum_info import Statevector\n",
    "import numpy as np\n",
    "import matplotlib.pyplot as plt\n",
    "from qiskit.visualization import plot_histogram\n",
    "from qiskit.providers.aer.noise import pauli_error\n",
    "from scipy.sparse import csc_matrix\n",
    "import pymatching\n",
    "\n",
    "#Define backends \n",
    "simulator = Aer.get_backend('aer_simulator')\n",
    "state_simulator = Aer.get_backend('statevector_simulator')\n"
   ]
  },
  {
   "cell_type": "code",
   "execution_count": 6,
   "id": "a958bd8e-29e9-42a2-a704-f46cc6069885",
   "metadata": {},
   "outputs": [
    {
     "name": "stdout",
     "output_type": "stream",
     "text": [
      "{'10000001 10000001 10000001 10000001': 1}\n"
     ]
    }
   ],
   "source": [
    "def simulate_surface_17(d3_sc, creg):\n",
    "     \"\"\"\n",
    "    Implements stabilizer measurements for a 17-qubit surface code circuit.\n",
    "\n",
    "    Parameters:\n",
    "    d3_sc (QuantumCircuit): The quantum circuit representing the 17-qubit surface code.\n",
    "    creg (ClassicalRegister): The classical register used for measuring the ancilla qubits.\n",
    "\n",
    "    The function modifies the passed quantum circuit 'd3_sc' in place, without returning anything.\n",
    "    \"\"\"\n",
    "    d3_sc.add_register(creg)\n",
    "    # Reset all ancillas to |0>\n",
    "    for i in range(9,17):\n",
    "        d3_sc.reset(i)\n",
    "    \n",
    "    # Implementing the stabilizer measurements\n",
    "    # X-ancilla qubit 9\n",
    "    d3_sc.h(9)\n",
    "    d3_sc.cx(9,1)\n",
    "    d3_sc.cx(9,2)\n",
    "    d3_sc.h(9)\n",
    "    d3_sc.measure(9,creg[0])\n",
    "    d3_sc.barrier()\n",
    "\n",
    "    # Z ancilla qubit 10\n",
    "    d3_sc.cx(0,10)\n",
    "    d3_sc.cx(3,10)\n",
    "    d3_sc.measure(10, creg[1])\n",
    "    d3_sc.barrier()\n",
    "\n",
    "    # X ancilla qubit 11\n",
    "    d3_sc.h(11)\n",
    "    d3_sc.cx(11,0)\n",
    "    d3_sc.cx(11,1)\n",
    "    d3_sc.cx(11,3)\n",
    "    d3_sc.cx(11,4)\n",
    "    d3_sc.h(11)\n",
    "    d3_sc.measure(11, creg[2])\n",
    "    d3_sc.barrier()\n",
    "\n",
    "    # Z ancilla qubit 12\n",
    "    d3_sc.cx(1,12)\n",
    "    d3_sc.cx(2,12)\n",
    "    d3_sc.cx(4,12)\n",
    "    d3_sc.cx(5,12)\n",
    "    d3_sc.measure(12, creg[3])\n",
    "    d3_sc.barrier()\n",
    "\n",
    "    # Z ancilla qubit 13\n",
    "    d3_sc.cx(3, 13)\n",
    "    d3_sc.cx(4, 13)\n",
    "    d3_sc.cx(6, 13)\n",
    "    d3_sc.cx(7, 13)\n",
    "    d3_sc.measure(13, creg[4])\n",
    "    d3_sc.barrier()\n",
    "\n",
    "\n",
    "    # X ancilla qubit 14\n",
    "    d3_sc.h(14)\n",
    "    d3_sc.cx(14, 4)\n",
    "    d3_sc.cx(14, 5)\n",
    "    d3_sc.cx(14, 7)\n",
    "    d3_sc.cx(14, 8)\n",
    "    d3_sc.h(14)\n",
    "    d3_sc.measure(14, creg[5])\n",
    "    d3_sc.barrier()\n",
    "\n",
    "    # Z ancilla qubit 15\n",
    "    d3_sc.cx(5, 15)\n",
    "    d3_sc.cx(8, 15)\n",
    "    d3_sc.measure(15, creg[6])\n",
    "    d3_sc.barrier()\n",
    "\n",
    "    # X ancilla qubit 16\n",
    "    d3_sc.h(16)\n",
    "    d3_sc.cx(16, 6)\n",
    "    d3_sc.cx(16, 7)\n",
    "    d3_sc.h(16)\n",
    "    d3_sc.measure(16, creg[7])\n",
    "    d3_sc.barrier()\n",
    "\n",
    "\n",
    "#Example usage \n",
    "num_cycles = 4\n",
    "qreg = 17\n",
    "d3_sc = QuantumCircuit(qreg)\n",
    "\n",
    "# Create and add a classical register for each cycle\n",
    "classical_regs = [ClassicalRegister(8, f'c{cycle}') for cycle in range(num_cycles)]\n",
    "\n",
    "# Run the simulation for each cycle with its corresponding classical register\n",
    "for cycle in range(num_cycles):\n",
    "    simulate_surface_17(d3_sc, classical_regs[cycle])\n",
    "    \n",
    "\n",
    "# Execute the circuit and get the result\n",
    "job = execute(d3_sc, simulator, shots=1)\n",
    "result = job.result().get_counts()\n",
    "\n",
    "# Extract the binary string (assuming there is only one key in the dictionary)\n",
    "print(result)"
   ]
  },
  {
   "cell_type": "markdown",
   "id": "2333299f-8c52-4c92-8b44-b46546f1a8fc",
   "metadata": {},
   "source": [
    "So if we  were to run this and measure the ancilla qubits evert cycle, we would see the state will collapse to any one of the eigenstates of the stabilizers. Then, in the abscence of errors, this state will remain throughout all cycles, and the ancilla measurements will be the same. With the presence of errors, the error will causes a unique change in the ancilla readout/syndrome measurement."
   ]
  },
  {
   "cell_type": "markdown",
   "id": "e99801aa-5458-45eb-8349-7149623f46cb",
   "metadata": {},
   "source": [
    "## Decoding with PyMatching\n",
    "We need some way to decode all the possible error syndromes. For this, we will experiment with [PyMatching](https://github.com/oscarhiggott/PyMatching) (although it remains to be seen how compatible this is with qiskit).\n",
    "##### Simple Example\n",
    "\n",
    "We must create $H$, a parity check matrix. Each row of the matrix $H$ represents a different stabilizer (a parity check).\n",
    "Each column represents a different qubit.\n",
    "The matrix element $H_{i,j}$ is set to 1 if the $i$-th stabilizer acts on the \n",
    "$j$-th qubit (i.e., if the qubit is part of that stabilizer), and 0 otherwise. Read about it in more detail in this PyMatching [Toric Code Example](https://pymatching.readthedocs.io/en/latest/toric-code-example.html) and section III B [here](https://arxiv.org/pdf/1404.3747.pdf). Here is a simple example for the 3 qubit code (recalling the stabilizers are $Z_1Z_2$ and $Z_2Z_3$). "
   ]
  },
  {
   "cell_type": "code",
   "execution_count": 7,
   "id": "02fd9dd2-df8d-496f-bd01-772ff1f8b82d",
   "metadata": {},
   "outputs": [
    {
     "name": "stdout",
     "output_type": "stream",
     "text": [
      "[0 1 0]\n"
     ]
    }
   ],
   "source": [
    "H = csc_matrix([[1, 1, 0],\n",
    "                 [0, 1, 1]])\n",
    "\n",
    "weights = np.array([1, 1, 1])   # Set arbitrary weights for illustration\n",
    "matching = pymatching.Matching(H, weights=weights)\n",
    "prediction = matching.decode(np.array([1, 1]))\n",
    "print(prediction)  "
   ]
  },
  {
   "cell_type": "markdown",
   "id": "7b446d9a-daae-4e45-9c6f-2c3415b8e486",
   "metadata": {},
   "source": [
    "Let's now create the H matrix for the surface code. We'll have to create two matricies $H_x$ and $H_z$, for the measurement of the $X$ stabilizers and $Z$ stabilizers. For the surface code we have our queiscient state (which is selected from many possible quiescent states), so we don't necessarily know the values of the stabilizer measurements. Therefore, we need to track the **changes** in stabilizer/ancilla measurements between each cycles. The change in the measurement value still allows us to determine where the error has occured."
   ]
  },
  {
   "cell_type": "code",
   "execution_count": 8,
   "id": "97ee17ed-c3b4-419f-b62b-68d6366223c8",
   "metadata": {},
   "outputs": [
    {
     "name": "stdout",
     "output_type": "stream",
     "text": [
      "Z Errors:  [1 0 0 0 0 0 0 0 0]\n",
      "X Errors:  [1 0 0 0 0 1 0 0 0]\n"
     ]
    }
   ],
   "source": [
    "H_x = np.array([\n",
    "    [0, 1, 1, 0, 0, 0, 0, 0, 0],\n",
    "    [1, 1, 0, 1, 1, 0, 0, 0, 0],\n",
    "    [0, 0, 0, 0, 1, 1, 0, 1, 1],\n",
    "    [0, 0, 0, 0, 0, 0, 1, 1, 0]\n",
    "])\n",
    "\n",
    "\n",
    "\n",
    "H_z = np.array([  \n",
    "    [1, 0, 0, 1, 0, 0, 0, 0, 0],\n",
    "    [0, 1, 1, 0, 1, 1, 0, 0, 0],\n",
    "    [0, 0, 0, 1, 1, 0, 1, 1, 0],\n",
    "    [0, 0, 0, 0, 0, 1, 0, 0, 1]\n",
    "])\n",
    "\n",
    "weights = np.array([1, 1, 1, 1, 1, 1, 1, 1, 1])   # Set arbitrary weights for illustration\n",
    "\n",
    "#Example for X stabilizers\n",
    "xmatching = pymatching.Matching(H_x, weights = weights)\n",
    "\n",
    "xprediction = xmatching.decode(np.array([0, 1, 0, 0]))\n",
    "print(\"Z Errors: \", xprediction)  \n",
    "\n",
    "zmatching = pymatching.Matching(H_z, weights = weights)\n",
    "\n",
    "zprediction = zmatching.decode(np.array([1, 1, 0, 1]))\n",
    "print(\"X Errors: \", zprediction)  "
   ]
  },
  {
   "cell_type": "code",
   "execution_count": 9,
   "id": "a16ca3bd-16f9-46fb-8915-e4265e7f8c79",
   "metadata": {},
   "outputs": [],
   "source": [
    "def decode_errors(results):\n",
    "    \"\"\"\n",
    "    Decodes errors from the (qiskit) results of a measurement.\n",
    "\n",
    "    Parameters:\n",
    "    results (dict): A dictionary containing the results of a quantum circuit simulation.\n",
    "                    The keys are the binary strings representing the measurement outcomes\n",
    "                    (error syndromes), and the values are their corresponding counts.\n",
    "\n",
    "    The function performs the following steps:\n",
    "    - Extracts the binary string representing the error syndromes.\n",
    "    - Initializes parity check matrices for X and Z errors.\n",
    "    - Splits the binary string into cycles and computes the difference in syndromes between cycles.\n",
    "    - Uses the pymatching library to decode these differences and identify possible errors.\n",
    "    - Constructs a report of identified X and Z errors for each cycle.\n",
    "\n",
    "    Returns:\n",
    "    list: A list of dictionaries, each containing the cycle number and lists of identified X and Z errors.\n",
    "    \"\"\"\n",
    "    H_x = np.array([\n",
    "        [0, 1, 1, 0, 0, 0, 0, 0, 0],\n",
    "        [1, 1, 0, 1, 1, 0, 0, 0, 0],\n",
    "        [0, 0, 0, 0, 1, 1, 0, 1, 1],\n",
    "        [0, 0, 0, 0, 0, 0, 1, 1, 0]\n",
    "    ])\n",
    "\n",
    "    H_z = np.array([\n",
    "        [1, 0, 0, 1, 0, 0, 0, 0, 0],\n",
    "        [0, 1, 1, 0, 1, 1, 0, 0, 0],\n",
    "        [0, 0, 0, 1, 1, 0, 1, 1, 0],\n",
    "        [0, 0, 0, 0, 0, 1, 0, 0, 1]\n",
    "    ])\n",
    "\n",
    "    weights = np.array([1, 1, 1, 1, 1, 1, 1, 1, 1])\n",
    "\n",
    "    # Extract the binary string\n",
    "    binary_str = next(iter(results)).replace(\" \", \"\")[::-1] #Due to qiskits little endian\n",
    "    n_cycles = len(binary_str) // 8\n",
    "\n",
    "    if len(binary_str) % 8 != 0:\n",
    "        raise ValueError(\"Binary string length is not a multiple of 8 after removing spaces. The 17 qubit surface code measures 8 stabilizers.\")\n",
    "\n",
    "    # Initialize pymatching matchers\n",
    "    xmatching = pymatching.Matching(H_x, weights=weights)\n",
    "    zmatching = pymatching.Matching(H_z, weights=weights)\n",
    "\n",
    "    error_reports = []\n",
    "\n",
    "    for cycle in range(n_cycles - 1):\n",
    "        start1 = cycle * 8\n",
    "        start2 = (cycle + 1) * 8\n",
    "        cycle1 = binary_str[start1:start1 + 8]\n",
    "        cycle2 = binary_str[start2:start2 + 8]\n",
    "\n",
    "        # Extract syndromes and calculate differences\n",
    "        X_syndromes_cycle1 = [int(cycle1[i]) for i in [0, 2, 5, 7]]\n",
    "        Z_syndromes_cycle1 = [int(cycle1[i]) for i in [1, 3, 4, 6]]\n",
    "        X_syndromes_cycle2 = [int(cycle2[i]) for i in [0, 2, 5, 7]]\n",
    "        Z_syndromes_cycle2 = [int(cycle2[i]) for i in [1, 3, 4, 6]]\n",
    "\n",
    "        Xdifference = [0 if X_syndromes_cycle1[i] == X_syndromes_cycle2[i] else 1 for i in range(4)]\n",
    "        Zdifference = [0 if Z_syndromes_cycle1[i] == Z_syndromes_cycle2[i] else 1 for i in range(4)]\n",
    "\n",
    "        # Decode the differences\n",
    "        xprediction = xmatching.decode(Xdifference)\n",
    "        zprediction = zmatching.decode(Zdifference)\n",
    "\n",
    "        cycle_errors = {'cycle': cycle + 1, 'X_error': [], 'Z_error': []}\n",
    "\n",
    "        # Identify X and Z errors\n",
    "        for i, x in enumerate(xprediction):\n",
    "            if x == 1:\n",
    "                cycle_errors['Z_error'].append(i) #As X stabilizers pick up Z errors\n",
    "\n",
    "        for i, z in enumerate(zprediction):\n",
    "            if z == 1:\n",
    "                cycle_errors['X_error'].append(i) #As X stabilizers pick up Z errors\n",
    "\n",
    "        error_reports.append(cycle_errors)\n",
    "\n",
    "    return error_reports"
   ]
  },
  {
   "cell_type": "markdown",
   "id": "bec400b2-21f5-4d5e-8c89-0db16d4f87b1",
   "metadata": {},
   "source": [
    "We can build on our previous case where we just measured the ancilla qubits by introducing some errors/test cases and decoding them.  Below, we are able to diagnoze 2 $Z$ errors and 2 $X$ errors during a single cycle."
   ]
  },
  {
   "cell_type": "code",
   "execution_count": 10,
   "id": "4cb385d2-1960-4d0e-85ea-f7b9ae12116b",
   "metadata": {},
   "outputs": [
    {
     "name": "stdout",
     "output_type": "stream",
     "text": [
      "{'11101111 11101111 11101111 00000100': 1}\n",
      "[{'cycle': 1, 'X_error': [0, 5], 'Z_error': [2, 7]}, {'cycle': 2, 'X_error': [], 'Z_error': []}, {'cycle': 3, 'X_error': [], 'Z_error': []}]\n"
     ]
    }
   ],
   "source": [
    "num_cycles = 4\n",
    "qreg = 17\n",
    "d3_sc = QuantumCircuit(qreg)\n",
    "\n",
    "# Create and add a classical register for each cycle\n",
    "classical_regs = [ClassicalRegister(8, f'c{cycle}') for cycle in range(num_cycles)]\n",
    "\n",
    "# Run the simulation for each cycle with its corresponding classical register\n",
    "for cycle in range(num_cycles):\n",
    "    simulate_surface_17(d3_sc, classical_regs[cycle])\n",
    "\n",
    "    if cycle == 0:\n",
    "        d3_sc.x(0)\n",
    "        d3_sc.x(5)\n",
    "        d3_sc.z(2)\n",
    "        d3_sc.z(7)\n",
    "    \n",
    "\n",
    "# Execute the circuit and get the result\n",
    "job = execute(d3_sc, simulator, shots=1)\n",
    "result = job.result().get_counts()\n",
    "\n",
    "# Extract the binary string (assuming there is only one key in the dictionary)\n",
    "print(result)\n",
    "\n",
    "err_report = decode_errors(result)\n",
    "\n",
    "print(err_report)"
   ]
  },
  {
   "cell_type": "markdown",
   "id": "1938731e-0d08-412d-8700-7645eae312c1",
   "metadata": {},
   "source": [
    "### Applying Corrections\n",
    "Qiskit doesn't seem to offer much in the way of conditional gates based on mid-circuit measurements, aside from `c_if`, which we can't use as we're using the classical registers to decode the error syndrome, so there doesn't really seem like a neat way of implementing this result back into a `c_if` statement. Instead, we will use `error_report` at the end of $n$ cycles to apply corrections to the state (i.e. based on our decoded information). It's also worth noting, if the same error occurs an even number of times, we don't need to correct it as it has effectively corrected itself."
   ]
  },
  {
   "cell_type": "code",
   "execution_count": 11,
   "id": "ceb764bf-b0d8-42bd-966c-7a1f966e58b8",
   "metadata": {},
   "outputs": [],
   "source": [
    "from collections import Counter\n",
    "\n",
    "def apply_error_corrections(qc, error_reports):\n",
    "    \"\"\"\n",
    "    Apply error corrections to the quantum circuit based on error reports.\n",
    "    Corrects a qubit if it has an odd number of errors.\n",
    "\n",
    "    Parameters:\n",
    "    qc (QuantumCircuit): The quantum circuit to apply corrections to.\n",
    "    error_reports (list): A list of dictionaries containing error reports for each cycle.\n",
    "    \n",
    "    Returns:\n",
    "    QuantumCircuit: The quantum circuit with applied error corrections.\n",
    "    \"\"\"\n",
    "    x_errors = []\n",
    "    z_errors = []\n",
    "\n",
    "    # Collect all errors\n",
    "    for report in error_reports:\n",
    "        x_errors.extend(report['X_error'])\n",
    "        z_errors.extend(report['Z_error'])\n",
    "\n",
    "    # Count occurrences and filter out even occurrences\n",
    "    x_error_counts = Counter(x_errors)\n",
    "    z_error_counts = Counter(z_errors)\n",
    "\n",
    "    # Apply X corrections for odd occurrences\n",
    "    for qubit, count in x_error_counts.items():\n",
    "        if count % 2 != 0:  # Odd count\n",
    "            qc.x(qubit)\n",
    "\n",
    "    # Apply Z corrections for odd occurrences\n",
    "    for qubit, count in z_error_counts.items():\n",
    "        if count % 2 != 0:  # Odd count\n",
    "            qc.z(qubit)\n",
    "\n",
    "    return qc"
   ]
  },
  {
   "cell_type": "markdown",
   "id": "1530a1c3-2976-44c5-a40e-1fb07a5106fa",
   "metadata": {},
   "source": [
    "Let's now complete the final step of the puzzle by applying correction to our manually inputted errors. We can run `d3_sc.draw('mpl')` to see these corrections."
   ]
  },
  {
   "cell_type": "code",
   "execution_count": 12,
   "id": "a3c23e15-7aa7-4e53-826f-c0e7a2b27804",
   "metadata": {},
   "outputs": [
    {
     "name": "stdout",
     "output_type": "stream",
     "text": [
      "[{'cycle': 1, 'X_error': [0, 5], 'Z_error': [2]}, {'cycle': 2, 'X_error': [0], 'Z_error': [2]}]\n"
     ]
    },
    {
     "data": {
      "text/plain": [
       "<qiskit.circuit.quantumcircuit.QuantumCircuit at 0x7fdd9f372290>"
      ]
     },
     "execution_count": 12,
     "metadata": {},
     "output_type": "execute_result"
    }
   ],
   "source": [
    "num_cycles = 3\n",
    "qreg = 17\n",
    "d3_sc = QuantumCircuit(qreg)\n",
    "\n",
    "# Create and add a classical register for each cycle\n",
    "classical_regs = [ClassicalRegister(8, f'c{cycle}') for cycle in range(num_cycles)]\n",
    "\n",
    "# Run the simulation for each cycle with its corresponding classical register\n",
    "for cycle in range(num_cycles):\n",
    "    simulate_surface_17(d3_sc, classical_regs[cycle])\n",
    "\n",
    "    if cycle == 0:\n",
    "        d3_sc.x(0)\n",
    "        d3_sc.x(5)\n",
    "        d3_sc.z(2)\n",
    "\n",
    "    if cycle ==1:\n",
    "        d3_sc.x(0) #These correct themselves\n",
    "        d3_sc.z(2)\n",
    "\n",
    "    if cycle == 2:\n",
    "        d3_sc.z(2) \n",
    "    \n",
    "\n",
    "# Execute the circuit and get the result\n",
    "job = execute(d3_sc, simulator, shots=1)\n",
    "result = job.result().get_counts()\n",
    "\n",
    "#Decode the errors\n",
    "err_report = decode_errors(result)\n",
    "\n",
    "print(err_report)\n",
    "\n",
    "#Apply corrections\n",
    "apply_error_corrections(d3_sc, err_report)\n",
    "\n",
    "# d3_sc.draw('mpl')"
   ]
  },
  {
   "cell_type": "markdown",
   "id": "cd23f89a-48cf-4f0c-ad8c-bdbadbd183d8",
   "metadata": {},
   "source": [
    "## Bringing it all together\n",
    "So now we have all the tools we need, all we need to do is bring it together. What will this involve?\n",
    "- Add a noise model\n",
    "- Check how well the code performs, e.g. logical error rate vs physical error rate.\n",
    "\n",
    "For now, let's just create a simple Pauli error noise model. This will just apply an $X$, $Z$ or a combination ($Y$) randomly to the 9 data qubits, given a single qubit error probability."
   ]
  },
  {
   "cell_type": "code",
   "execution_count": 13,
   "id": "050adf69-f481-4daa-a4d8-d882d8352c32",
   "metadata": {},
   "outputs": [],
   "source": [
    "import random\n",
    "def apply_random_pauli_errors(circuit, prob):\n",
    "    \"\"\"\n",
    "    Apply random X, Y, or Z gate errors to each qubit in the given circuit with a given probability.\n",
    "\n",
    "    Args:\n",
    "    - circuit (QuantumCircuit): The quantum circuit to which the errors will be applied.\n",
    "    - prob (float): The probability with which an error occurs on each qubit.\n",
    "\n",
    "    Returns:\n",
    "    - QuantumCircuit: The modified quantum circuit.\n",
    "    \"\"\"\n",
    "    num_qubits = circuit.num_qubits\n",
    "\n",
    "    # Ensure that the circuit has at least 9 qubits\n",
    "    if num_qubits < 9:\n",
    "        raise ValueError(\"Circuit must have at least 9 qubits\")\n",
    "\n",
    "    for qubit_index in range(9):  # Iterate over qubits 0 to 8\n",
    "        # Generate a random number to decide if the error should be applied to this qubit\n",
    "        if random.random() < prob:\n",
    "            # Randomly choose between an X, Y, or Z gate\n",
    "            gate_choice = random.choice(['x', 'y', 'z'])\n",
    "\n",
    "            # Apply the chosen gate to the qubit\n",
    "            getattr(circuit, gate_choice)(qubit_index)\n",
    "\n",
    "    return circuit"
   ]
  },
  {
   "cell_type": "markdown",
   "id": "fda0dce1-8fab-476b-a815-6f445aa1289f",
   "metadata": {},
   "source": [
    "#### Qiskit's Density Matricies & State Vectors\n",
    "To allow us to compare initial and final states (to allow us to calculate logical error rate), we would ideally use qiskits `save_density_matrix` function along with `state_fidelity`. However a $2^{17} \\times 2^{17}$ density matrix is very resource intensive, so we have to just work with the statevector at the moment instead."
   ]
  },
  {
   "cell_type": "code",
   "execution_count": 16,
   "id": "3a4579e1-8f92-409f-a97d-4f10f0c42fe3",
   "metadata": {},
   "outputs": [
    {
     "name": "stdout",
     "output_type": "stream",
     "text": [
      "State vector 1:  Statevector([0.70710678+0.j, 0.70710678+0.j, 0.        +0.j,\n",
      "             0.        +0.j],\n",
      "            dims=(2, 2))\n",
      "State vector 2:  Statevector([1.+0.j, 0.+0.j, 0.+0.j, 0.+0.j],\n",
      "            dims=(2, 2))\n",
      "Fidelity:  0.5\n"
     ]
    }
   ],
   "source": [
    "# Example\n",
    "from qiskit.quantum_info import state_fidelity, Statevector\n",
    "\n",
    "qc = QuantumCircuit(2)\n",
    "\n",
    "qc.h(0)\n",
    "s = Statevector(qc)\n",
    "\n",
    "qc2 = QuantumCircuit(2)\n",
    "s2 = Statevector(qc2)\n",
    "\n",
    "fidelity = state_fidelity(s , s2)\n",
    "\n",
    "print(\"State vector 1: \", s)\n",
    "print(\"State vector 2: \", s2)\n",
    "print(\"Fidelity: \", round(fidelity, 2))"
   ]
  },
  {
   "cell_type": "markdown",
   "id": "9d833eac-37f7-4456-8550-e879a74aab39",
   "metadata": {},
   "source": [
    "We can now incoportate this to allow us to compare the initial state and final state following $n$ cycles."
   ]
  },
  {
   "cell_type": "code",
   "execution_count": 17,
   "id": "81f456d3-bd83-4bb6-a837-9ccd0952017c",
   "metadata": {},
   "outputs": [],
   "source": [
    "def run_simulation(num_shots, num_cycles, p_err):\n",
    "    \"\"\"\n",
    "    Runs a simulation of the 17 qubit surface code and calculates the average fidelity.\n",
    "\n",
    "    Parameters:\n",
    "    num_shots (int): The number of times the simulation is run.\n",
    "    num_cycles (int): The number of error correction cycles in each simulation.\n",
    "    p_err (float): The probability of a Pauli error (X, Z or Y) occurring in each cycle.\n",
    "    \n",
    "    Returns:\n",
    "    float: The average fidelity over all simulation runs.\n",
    "    \"\"\"\n",
    "    fidelities = []\n",
    "    simulator = Aer.get_backend('aer_simulator')\n",
    "    state_simulator = Aer.get_backend('statevector_simulator')\n",
    "\n",
    "    # error = pauli_error([('X', 0.5 * p_err), ('Z', 0.5 * p_err), ('I', 1.0 - p_err)])\n",
    "    \n",
    "    for shot in range(num_shots):\n",
    "        qreg = 17\n",
    "        d3_sc = QuantumCircuit(qreg)\n",
    "        classical_regs = [ClassicalRegister(8, f'c{cycle}') for cycle in range(num_cycles+1)]\n",
    "\n",
    "        for cycle in range(num_cycles):\n",
    "            simulate_surface_17(d3_sc, classical_regs[cycle])\n",
    "\n",
    "            if cycle == 0:  # Cycle 0 is state preparation\n",
    "                d3_sc.save_statevector(label='initial_state')\n",
    "\n",
    "            #==========================================\n",
    "            # if cycle != num_cycles - 1:\n",
    "            #     for i in range(0, 9):\n",
    "            #         d3_sc.append(error, [i])\n",
    "            if cycle != num_cycles - 1:\n",
    "                apply_random_pauli_errors(d3_sc, p_err)\n",
    "\n",
    "            #==========================================\n",
    "\n",
    "\n",
    "\n",
    "        job = execute(d3_sc, simulator, shots=1)\n",
    "        result = job.result().get_counts()\n",
    "        #----------------------------------------------\n",
    "        # print(result)\n",
    "        #----------------------------------------------\n",
    "\n",
    "        err_report = decode_errors(result)\n",
    "        #----------------------------------------------\n",
    "        # print(err_report)\n",
    "        #----------------------------------------------\n",
    "\n",
    "        apply_error_corrections(d3_sc, err_report)\n",
    "        #----------------------------------------------\n",
    "        #Cycle through once more after applying corrections (?) <----- This is to put ancillas back into desired 'quiescent state' \n",
    "        simulate_surface_17(d3_sc,classical_regs[num_cycles])\n",
    "        #----------------------------------------------\n",
    "\n",
    "        #Save the final state statevector\n",
    "        d3_sc.save_statevector(label='final_state')\n",
    "\n",
    "        #Run the statevector jobs\n",
    "        transpiled_qc = transpile(d3_sc, state_simulator)\n",
    "        sv_job = state_simulator.run(transpiled_qc)\n",
    "        sv_result = sv_job.result()\n",
    "        initial_state = sv_result.data()['initial_state']\n",
    "        final_state = sv_result.data()['final_state']\n",
    "\n",
    "        #Calculate fidelity\n",
    "        fidelity = state_fidelity(initial_state, final_state)\n",
    "        fidelities.append(fidelity)\n",
    "        \n",
    "    average_fidelity = sum(fidelities) / num_shots\n",
    "    return average_fidelity"
   ]
  },
  {
   "cell_type": "code",
   "execution_count": 18,
   "id": "839330b3-9ac9-4ed6-b5f2-281403841058",
   "metadata": {},
   "outputs": [
    {
     "name": "stdout",
     "output_type": "stream",
     "text": [
      "Time taken = 14.137807846069336 seconds\n",
      "Average fidelity across all shots:  1.0\n"
     ]
    }
   ],
   "source": [
    "import time\n",
    "# Example usage of the function\n",
    "num_shots = 100\n",
    "num_cycles = 2\n",
    "p_err = 0.01\n",
    "start_time = time.time()\n",
    "average_fidelity = run_simulation(num_shots, num_cycles, p_err)\n",
    "end_time = time.time()\n",
    "\n",
    "\n",
    "print(f\"Time taken = {end_time - start_time} seconds\")\n",
    "print(\"Average fidelity across all shots: \", round(average_fidelity, 3))"
   ]
  },
  {
   "cell_type": "code",
   "execution_count": 19,
   "id": "18d3d720-5521-42e5-8867-b2bbcb9d7a1c",
   "metadata": {},
   "outputs": [
    {
     "name": "stdout",
     "output_type": "stream",
     "text": [
      "Time taken = 260.4806661605835 seconds\n"
     ]
    },
    {
     "data": {
      "image/png": "[encoded data removed]",
      "text/plain": [
       "<Figure size 1000x600 with 1 Axes>"
      ]
     },
     "metadata": {},
     "output_type": "display_data"
    }
   ],
   "source": [
    "num_shots = 1000\n",
    "num_cycles = 5\n",
    "p_err_values = np.arange(0.001, 0.02, 0.002)  # p_err from 0.001 to 0.02 in steps of 0.001\n",
    "average_fidelities = []\n",
    "\n",
    "for p_err in p_err_values:\n",
    "    start_time = time.time()\n",
    "    average_fidelity = run_simulation(num_shots, num_cycles, p_err)\n",
    "    end_time = time.time()\n",
    "\n",
    "    # print(f\"p_err = {round(p_err,2)}, Average Fidelity = {round(average_fidelity, 3)}\")\n",
    "    \n",
    "    average_fidelities.append(average_fidelity)\n",
    "\n",
    "\n",
    "print(f\"Time taken = {end_time - start_time} seconds\")\n",
    "\n",
    "# Plotting the graph\n",
    "plt.figure(figsize=(10, 6))\n",
    "plt.plot(p_err_values, average_fidelities, marker='o')\n",
    "plt.plot(p_err_values, 1 - p_err_values, linestyle='--', alpha=0.5, color='gray', label='Break Even')\n",
    "plt.title(f\"Average Fidelity vs Physical Error Rate for {num_cycles} Cycles of Surface 17\")\n",
    "plt.xlabel(\"Physical Error Rate (p_err)\")\n",
    "plt.ylabel(\"Average Fidelity\")\n",
    "plt.grid(True)\n",
    "plt.legend()\n",
    "plt.show()"
   ]
  },
  {
   "cell_type": "markdown",
   "id": "aa46131b-00ef-49cb-8c6c-52f4afe782a6",
   "metadata": {},
   "source": [
    "#### Not currently compatible with qiskits quantum channel\n",
    "Currently, when trying to implement qiskits own quantum channels (e.g. `error = pauli_error([('X', 0.5 * p_err), ('Z', 0.5 * p_err), ('I', 1.0 - p_err)])`), this messes up the fidelity, and causes a different final state, even when no errors occur. This may be due to the method of executing the statevectors...\n",
    "\n",
    "Another frustrating issue is that qiskit doesn't (seem to) allow the execution of mid-circuit measurements during the computation, as measurements after this will 're-write' the previous measurement results (so if there is any probabilistic state collapse, the state could collapse to one state during the first measurement, then a different one during the second measurement). This makes it hard to extract error syndromes during the computation, and as we've done, we have to extract all error syndromes at the end of $n$\n",
    " cycles."
   ]
  }
 ],
 "metadata": {
  "kernelspec": {
   "display_name": "Python 3 (ipykernel)",
   "language": "python",
   "name": "python3"
  },
  "language_info": {
   "codemirror_mode": {
    "name": "ipython",
    "version": 3
   },
   "file_extension": ".py",
   "mimetype": "text/x-python",
   "name": "python",
   "nbconvert_exporter": "python",
   "pygments_lexer": "ipython3",
   "version": "3.10.12"
  }
 },
 "nbformat": 4,
 "nbformat_minor": 5
}
